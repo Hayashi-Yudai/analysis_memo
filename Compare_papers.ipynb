{
 "cells": [
  {
   "cell_type": "code",
   "execution_count": 18,
   "metadata": {},
   "outputs": [
    {
     "name": "stderr",
     "output_type": "stream",
     "text": [
      "[nltk_data] Downloading package stopwords to /home/yudai/nltk_data...\n",
      "[nltk_data]   Package stopwords is already up-to-date!\n"
     ]
    },
    {
     "data": {
      "text/plain": [
       "True"
      ]
     },
     "execution_count": 18,
     "metadata": {},
     "output_type": "execute_result"
    }
   ],
   "source": [
    "from io import StringIO\n",
    "\n",
    "from pdfminer.converter import TextConverter\n",
    "from pdfminer.layout import LAParams\n",
    "from pdfminer.pdfdocument import PDFDocument\n",
    "from pdfminer.pdfinterp import PDFResourceManager, PDFPageInterpreter\n",
    "from pdfminer.pdfpage import PDFPage\n",
    "from pdfminer.pdfparser import PDFParser\n",
    "import re\n",
    "import os\n",
    "\n",
    "from nltk.corpus import stopwords\n",
    "import nltk\n",
    "\n",
    "nltk.download(\"stopwords\")"
   ]
  },
  {
   "cell_type": "markdown",
   "metadata": {},
   "source": [
    "`brief_analysis.ipynb` で得られた手法を使って様々な論文誌の論文を解析してみる"
   ]
  },
  {
   "cell_type": "code",
   "execution_count": 85,
   "metadata": {},
   "outputs": [],
   "source": [
    "def loadtxt(pdf: str) -> str:\n",
    "    output_string = StringIO()\n",
    "    with open(pdf, 'rb') as in_file:\n",
    "        parser = PDFParser(in_file)\n",
    "        doc = PDFDocument(parser)\n",
    "        rsrcmgr = PDFResourceManager()\n",
    "        device = TextConverter(rsrcmgr, output_string, laparams=LAParams())\n",
    "        interpreter = PDFPageInterpreter(rsrcmgr, device)\n",
    "        for page in PDFPage.create_pages(doc):\n",
    "            interpreter.process_page(page)\n",
    "            break\n",
    "    text = output_string.getvalue()\n",
    "    return text\n",
    "\n",
    "def clean(text: str) -> str:\n",
    "    text2 = re.sub(r\"\\n+|,|\\s+\", \" \", text.lower())\n",
    "    text3 = re.sub(r\"(\\[|\\()\\d+((–|,|\\s)\\d+)?(\\]|\\))\", \"\", text2)\n",
    "    text4 = re.sub(r\"\\.|:|'|’|/|;|\\*\", \"\", text3)\n",
    "    text5 = re.sub(r\"\\-\\s\", \"\", text4)\n",
    "    text6 = re.sub(r\"\\s+\", \" \", text5)\n",
    "    text7 = re.sub(r\"\\(|\\)\", \"\", text6)\n",
    "    text_list = text7.split(\" \")\n",
    "    text_list2 = [word for word in text_list if word not in stopwords.words(\"english\") and len(word) > 1]\n",
    "    \n",
    "    return \" \".join(text_list2)"
   ]
  },
  {
   "cell_type": "code",
   "execution_count": 86,
   "metadata": {},
   "outputs": [],
   "source": [
    "adv_matter = clean(loadtxt(\"./Samples/AdvMatter1.pdf\"))\n",
    "jphys = clean(loadtxt(\"./Samples/JPhys1.pdf\"))\n",
    "jpsj = clean(loadtxt(\"./Samples/JPSJ1.pdf\"))\n",
    "nat_com = clean(loadtxt(\"./Samples/NatCommun1.pdf\"))\n",
    "nat_mat = clean(loadtxt(\"./Samples/NatMatter1.pdf\"))\n",
    "nat_phys = clean(loadtxt(\"./Samples/NatPhys1.pdf\"))\n",
    "nat = clean(loadtxt(\"./Samples/Nature1.pdf\"))\n",
    "prl = clean(loadtxt(\"./Samples/PRL1.pdf\"))\n",
    "prb = clean(loadtxt(\"./Samples/PRB1.pdf\"))"
   ]
  },
  {
   "cell_type": "code",
   "execution_count": 87,
   "metadata": {},
   "outputs": [
    {
     "data": {
      "text/plain": [
       "'magnetic skyrmions observation various spontaneous magnetic skyrmionic bubbles room temperature frustrated kagome magnet uniaxial magnetic anisotropy zhipeng hou weijun ren bei ding guizhou xu yue wang bing yang qiang zhang ying zhang enke liu feng xu wenhong wang guangheng wu xixiang zhang baogen shen zhidong zhang quest materials hosting topologically protected skyrmionic spin textures continues fueled promise novel devices although many materials demonstrated existence spin textures major challenges remain addressed devices based magnetic skyrmions realized example able create manipulate skyrmionic spin textures room temperature great importance technological applications adapt various external stimuli acting information carriers spintronic devices first observation skyrmionic magnetic bubbles variable topological spin textures formed room temperature frustrated kagome fe3sn2 magnet uniaxial magnetic anisotropy reported magnetization dynamics investigated using situ lorentz transmission electron microscopy revealing transformation different magnetic bubbles domains via motion bloch lines driven applied external magnetic field results demonstrate fe3sn2 facilitates unique magnetic control topological spin textures room temperature making promising candidate skyrmion-based spintronic devices quest materials hosting topologically protected nanometric spin textures so-called magnetic skyrmions magnetic skyrmionic bubbles continues fueled promise novel devices skyrmionic spin textures mostly observed noncentrosymmetric crystals cubic chiral magnets mnsi mn fege fecosi cu2oseo3 also polar magnet gav4s8 dr hou dr ding dr wang dr zhang dr liu prof wang prof wu prof shen beijing national laboratory condensed matter physics institute physics chinese academy sciences beijing 100190 china e-mail wenhongwang@iphyaccn dr ren dr yang prof zhang shenyang materials science national laboratory institute metal research chinese academy sciences 72 wenhua road shenyang 110016 china e-mail wjren@imraccn doi 101002adma201701144 thermally resonance dzyaloshinskii–moriya interaction dmi active number intriguing electromagnetic phenomena including topological hall effect skyrmion magnetic induced ratchet motion effective magnetic monopoles demonstrated closely related topologically nontrivial spin texture skyrmions novel topological properties together nanoscale dimensions stable particlelike feature ultralow threshold current-driven motion make magnetic skyrmions fundamentally promising applications next-generation high-density low-dissipation memory devices however although recent publication tokunaga et al reported observation skyrmion lattices room temperature rt β-type cu–zn– mn alloys skyrmions bulk chiral magnets mostly observed rt moreover spin texture skyrmions stabilized dmi chiral magnets quite limited skyrmions variable spin textures may attractive technological applications adapt various external stimuli acting information carriers spintronic devices therefore one particularly important current research direction aims discovery new materials host skyrmions variable spin textures room temperature dr xu prof xu school materials science engineering nanjing university science technology nanjing 210094 china dr zhang prof zhang king abdullah university science technology kaust physical science engineering pse thuwal 23955-6900 saudi arabia adv mater 2017 29 1701144 1701144 2017 wiley-vch verlag gmbh co kgaa weinheim communicationwwwadvmatde'"
      ]
     },
     "execution_count": 87,
     "metadata": {},
     "output_type": "execute_result"
    }
   ],
   "source": [
    "adv_matter"
   ]
  },
  {
   "cell_type": "code",
   "execution_count": 88,
   "metadata": {},
   "outputs": [
    {
     "data": {
      "text/plain": [
       "427"
      ]
     },
     "execution_count": 88,
     "metadata": {},
     "output_type": "execute_result"
    }
   ],
   "source": [
    "len(adv_matter.split())"
   ]
  },
  {
   "cell_type": "code",
   "execution_count": 89,
   "metadata": {},
   "outputs": [
    {
     "data": {
      "text/plain": [
       "'journal physics condensed matterfast track communicationthe giant anomalous hall effect ferromagnetfe3sn2—a frustrated kagome metalto cite article kida et al 2011 phys condens matter 23 112205 view article online updates enhancementsrelated contentnon-collinearity spin frustration theitinerant kagome ferromagnet fe3sn2l fenner dee wills-anomalous hall effect electrontransport ferromagnetic mnbi filmsp kharel sellmyer-skew scattering dominated anomaloushall effect coxmgo100x granular thinfilmsqiang zhang yan wen yuelei zhao et al-recent citationselemental analysis magnetism ofhydronium jarosites—model kagomeantiferromagnets topological spinglassesa wills bisson-anomalous hall effect due tononcollinearity pyrochlore compoundsrole orbital aharonov-bohm effecttomizawa takeshi kontani hirhoshi-this content downloaded ip address 1578219415 09102019 0406'"
      ]
     },
     "execution_count": 89,
     "metadata": {},
     "output_type": "execute_result"
    }
   ],
   "source": [
    "jphys"
   ]
  },
  {
   "cell_type": "code",
   "execution_count": 90,
   "metadata": {},
   "outputs": [
    {
     "data": {
      "text/plain": [
       "91"
      ]
     },
     "execution_count": 90,
     "metadata": {},
     "output_type": "execute_result"
    }
   ],
   "source": [
    "len(jphys.split())"
   ]
  },
  {
   "cell_type": "code",
   "execution_count": 91,
   "metadata": {},
   "outputs": [
    {
     "data": {
      "text/plain": [
       "'journal physical society japan vol 71 11 november 2002 pp 2613–2616 #2002 physical society japan letters chirality-driven anomalous hall eﬀect weak coupling regime gen tatara hikaru kawamura graduate school science osaka university toyonaka osaka 560-0043 received june 19 2002 anomalous hall eﬀect arising non-trivial spin conﬁguration chirality studied treating perturbatively exchange coupling localized spins scattering normal impurities included chirality shown drive locally hall current leads overall hall eﬀect ﬁnite uniform chirality contribution independent conventional spin–orbit contribution shows distinct low-temperature behavior mesoscopic spin glasses chirality-induced anomalous hall eﬀect expected spin–glass transition temperature measurement hall coeﬃcient would useful experimentally conﬁrming chirality ordering keywords hall effect chirality frustration spin glass berry phase doi 101143jpsj712613 hall eﬀect ferromagnetic metals long known anomalous component vanish zero external magnetic ﬁeld theories explained phenomenon due spontaneous interaction1–3 also magnetization spin–orbit shown based s–d model high-temperature close critical temperature behavior anomalous hall eﬀect understood terms ﬂuctuation magnetization coupled spin–orbit interaction4 recently manganites found exhibit abnormal behavior high temperatures6 explainable previous theories behavior explained berry phase eﬀect associated thermally driven non trivial background spin conﬁguration chirality8–10 finite chirality results ﬁnite berry phase leads hall eﬀect chirality non vanishing net anomalous hall coeﬃcient ferromagnetic pyrochlores found remain ﬁnite low temperatures11 12 behavior reported due ﬁnite chirality ground state originates geometrical frustration13–16 behavior explained solely chirality theories reported recently mo-based pyrochlores17–19 recent theories8–10 13–16 exclusively dealt strong hund-coupling limit considering half-metallic nature experimental systems limit electron spin aligns perfectly local spin feels berry phase local spin carries hall conductivity topological meaning20 weak coupling region would case common transition-metal magnets never explored viewpoint chirality manganites contrast paper study anomalous hall eﬀect due chirality taking account exchange coupling localized spins perturbatively using kubo formula including impurity scattering demonstrate chirality drives local hall current perturbative regime compare experiments chirality mechanism conventional one due spin–orbit interaction corresponding results obtained karplus luttinger1 need taken account show chirality contribution independent conventional one simply add lowest approximation order chirality contribution hall eﬀect ﬁnite needs net uniform component chirality possible eﬀect spin– orbit interaction induce uniform component chirality presence uniform magnetization originally claimed present strong hund-coupling limit examined weak-coupling scheme turns spin–orbit interaction induces vector chirality uniform magnetization indeed results hall eﬀect bulk eﬀect however would strongly depend band structure chirality order develops theory applicable wide class magnetic systems including canonical spin glasses conduction electron weakly coupled local spin spin glasses low temperatures leading spin–glass transition21 however chirality order spatially random without uniform component making experimental detection chirality-driven anomalous hall eﬀect rather diﬃcult due inherent cancellation eﬀect even case however average squared chirality remains ﬁnite small mesoscopic samples 22 23 enhancement anomalous hall coeﬃcient expected spin–glass transition temperature thus measurement ﬂuctuation hall conductivity mesoscopic samples may useful experimental conﬁrmation chirality ordering depending band structure chirality-driven hall eﬀect might observable even bulk spin–glass samples sample possesses uniform magnetization induced applied ﬁelds generated spontaneously case reentrant spin glasses24 consider electron lattice whose hamiltonian given k\\x1bck\\x1b himp k\\x1b \\x0fk\\x1bc ð1þ denotes electron spin electron energy \\x0fk\\x1b k2=2m \\x1b\\x01 \\x0ff electron mass uniform polarization conduction electron due magnetization external ﬁeld \\x0ff fermi energy interaction localized spin sx represented exchange interaction h0 0\\x00kðc \\x1bckþ ð2þ sk kk 2613 phys soc jpndownloaded journalsjpsjp 東京大学 083119'"
      ]
     },
     "execution_count": 91,
     "metadata": {},
     "output_type": "execute_result"
    }
   ],
   "source": [
    "jpsj"
   ]
  },
  {
   "cell_type": "code",
   "execution_count": 92,
   "metadata": {},
   "outputs": [
    {
     "data": {
      "text/plain": [
       "530"
      ]
     },
     "execution_count": 92,
     "metadata": {},
     "output_type": "execute_result"
    }
   ],
   "source": [
    "len(jpsj.split(\" \"))"
   ]
  },
  {
   "cell_type": "code",
   "execution_count": 93,
   "metadata": {},
   "outputs": [
    {
     "data": {
      "text/plain": [
       "'article httpsdoiorg101038s41467-019-13968-8 open topological magneto-optical effects quantization noncoplanar antiferromagnets xiaodong zhou1 guang-yu guo4 stefan blügel jan-philipp hanke wanxiang feng yuriy mokrousov yugui yao1 reﬂecting fundamental interactions polarized light magnetic matter magnetooptical effects well known since century emergence phenomena commonly attributed interplay exchange splitting spin-orbit coupling electronic structure magnets using theoretical arguments demonstrate topological magneto-optical effects arise noncoplanar antiferromagnets due ﬁnite scalar spin chirality without reference exchange splitting spin-orbit coupling propose spectral integrals certain magneto-optical quantities uncover unique topological nature discovered effect also ﬁnd kerr faraday rotation angles quantized insulating topological antiferromagnets low-frequency limit owing nontrivial global properties manifest quantum topological magneto-optical effects although predicted topological quantum topological magneto-optical effects fundamentally distinct conventional light-matter interactions measured readily available experimental techniques key lab advanced optoelectronic quantum architecture measurement ministry education beijing key lab nanophotonics ultraﬁne optoelectronic systems school physics beijing institute technology 100081 beijing china peter grünberg institut institute advanced simulation forschungszentrum jülich jara 52425 jülich germany institute physics johannes gutenberg university mainz 55099 mainz germany department physics center theoretical physics national taiwan university taipei 10617 taiwan physics division national center theoretical sciences hsinchu 30013 taiwan email ygyao@biteducn nature communications 11118 httpsdoiorg101038s41467-019-13968-8 wwwnaturecomnaturecommunications'"
      ]
     },
     "execution_count": 93,
     "metadata": {},
     "output_type": "execute_result"
    }
   ],
   "source": [
    "nat_com"
   ]
  },
  {
   "cell_type": "code",
   "execution_count": 94,
   "metadata": {},
   "outputs": [
    {
     "data": {
      "text/plain": [
       "191"
      ]
     },
     "execution_count": 94,
     "metadata": {},
     "output_type": "execute_result"
    }
   ],
   "source": [
    "len(nat_com.split(\" \"))"
   ]
  },
  {
   "cell_type": "code",
   "execution_count": 95,
   "metadata": {},
   "outputs": [
    {
     "data": {
      "text/plain": [
       "'dirac fermions flat bands ideal kagome metal fesn 12 linda ye jhih-shih 12 shiang fang aaron bostwick4 eli rotenberg mingu kang jorge facio3 chris jozwiak david graf jeroen van den brink3 manuel richter3 10 madhav prasad ghimire riccardo comin konstantine kaznatcheev7 elio vescovo7 david bell8 efthimios kaxiras2 11 joseph checkelsky abe levitan1 minyong han1 mun chan5 ross mcdonald kagome lattice 3d transition metal ions versatile platform correlated topological phases hosting symmetryprotected electronic excitations magnetic ground states however paradigmatic states idealized two-dimensional kagome lattice—dirac fermions flat bands—have simultaneously observed use angle-resolved photoemission spectroscopy de haas–van alphen quantum oscillations reveal coexisting surface bulk dirac fermions well flat bands antiferromagnetic kagome metal fesn spatially decoupled kagome planes band structure calculations matrix element simulations demonstrate bulk dirac bands arise in-plane localized fe-3d orbitals evidence coexisting dirac surface state realizes rare example fully spin-polarized two-dimensional dirac fermions due spin-layer locking fesn prospect harness prototypical excitations kagome lattice frontier great promise confluence topology magnetism strongly correlated physics kagome lattice two-dimensional 2d network corner-sharing triangles fig 1a originally gained spotlight platform frustration-driven exotic spin-liquid phases1 recent theoretical investigations focused emergent electronic excitations engendered special geometry kagome network whose unique combination lattice symmetry spin–orbit coupling unusual magnetism sets ideal stage novel topological phases3–8 viewed isolated layer kagome lattice hosts flat band pair dirac bands depicted nearest-neighbour tight-binding calculation fig 1b refs compounded spin–orbit coupling net magnetization 2d kagome lattice realizes 2d chern insulator phase quantized anomalous hall conductance 13 23 fillings5 quantum anomalous hall layers stacked along third dimension interlayer interaction drives mass gap closed reopened along stacking axis transforming system three-dimensional 3d magnetic weyl semimetal7 focusing flat band quenched kinetic energy interactiondriven many-body electronic phases ranging density waves superconductivity theoretically investigated10 time flat band kagome lattice also carries finite chern number mimics phenomenology landau levels without external magnetic field8 11 result fractional quantum hall state realized partial filling flat bands enriching spectrum topological phases harnessed within kagome lattice promising theoretical proposals driven guided recent experimental efforts toward realization study topological kagome metals based binary ternary intermetallic compounds12–23 variance widely studied orbital-based toplogical systems close non-interacting limit kagome lattice intermetallic materials populated low-energy 3d electrons transition metals fig 1a thus provide ideal platform study interplay electronic topology strong correlations correspondingly topological electronic structures also rich intrinsic magnetism found 3d kagome metal series combination two aspects gives rise intrinsic anomalous hall conductivity via various mechanisms12 14 16 20 21 despite great potential rich phenomenology family materials experimental realization electronic structure idealized 2d kagome lattice namely dirac fermions topological flat bands fig 1b bulk magnetic kagome crystals remained outstanding challenge instance binary intermetallic tmxn kagome series mn fe co sn ge mn 31 32 11 various stacking sequences kagome spacer layers fig 1c–e quasi-2d dirac electronic structure detected fe3sn2 ref 16 mn3sn ref 14 rather mn3sn ternary kagome compound co3sn2s2 3d magnetic weyl points identified potential origin chiral anomaly transport14 20 also confirmed band structure calculations7 20–22 concerns flat bands 1department physics massachusetts institute technology cambridge usa 2department physics harvard university cambridge usa 3leibniz institute solid state materials research ifw dresden dresden germany 4advanced light source lawrence berkeley national laboratory berkeley ca usa 5national high magnetic field laboratory los alamos national laboratory los alamos nm usa 6national high magnetic field laboratory tallahassee fl usa 7national synchrotron light source ii brookhaven national laboratory upton ny usa 8john paulson school engineering applied sciences harvard university cambridge usa 9center nanoscale systems harvard university cambridge usa 10dresden center computational materials science dcms tu dresden dresden germany 11central department physics tribhuvan university kirtipur kathmandu nepal 12these authors contributed equally mingu kang linda ye e-mail checkelsky@mitedu rcomin@mitedu nature materials vol 19 february 2020 163–169 wwwnaturecomnaturematerials 163 articleshttpsdoiorg101038s41563-019-0531-0'"
      ]
     },
     "execution_count": 95,
     "metadata": {},
     "output_type": "execute_result"
    }
   ],
   "source": [
    "nat_mat"
   ]
  },
  {
   "cell_type": "code",
   "execution_count": 96,
   "metadata": {},
   "outputs": [
    {
     "data": {
      "text/plain": [
       "611"
      ]
     },
     "execution_count": 96,
     "metadata": {},
     "output_type": "execute_result"
    }
   ],
   "source": [
    "len(nat_mat.split(\" \"))"
   ]
  },
  {
   "cell_type": "code",
   "execution_count": 97,
   "metadata": {},
   "outputs": [
    {
     "data": {
      "text/plain": [
       "'deep-subwavelength features photonic skyrmions confined electromagnetic field orbital angular momentum luping du aiping yang1 anatoly zayats xiaocong yuan magnetic materials skyrmions nanoscale regions orientation electron spin changes vortex-type manner1–4 electromagnetic waves carry spin orbital angular momenta5 show spin–orbit coupling7–12 focused vector beam results skyrmion-like structure local photonic spin diffraction limits spatial size intensity variations direction electromagnetic field defines polarization local photonic spin state subject limitation demonstrate local spin direction skyrmion-like structure varies deep-subwavelength scale 160 light wavelength corresponds length scale 10 nm application photonic skyrmions may range high-resolution imaging precision metrology quantum technologies data storage local spin state field intensity applied achieve deep-subwavelength optical patterns photonic spin angular momentum sam determined light polarization orbital angular momentum oam fundamental characteristics electromagnetic fields5 considered two separate degrees freedom paraxial beam7 however spin–orbit coupling focused beams evanescent waves9–12 allows variety unusual effects physics optics quantum technologies13–17 many analogies recently developed electron optical spin effects resulting innovative applications metrology sensing optical information quantum technologies3 one prominent manifestations electron spin–orbit coupling magnetic materials appearance skyrmions— nanoscale vortices electron spins1–4 show spin–orbit coupling focused vector beam results skyrmion-like photonic spin distribution local photon spin vector orientation sam either along opposite oam depending spatial location beam cross-section waveguided modes featuring evanescent fields gives rise neeltype skyrmion structure bloch-type skyrmion-like sam configuration formed within central area focused freespace propagating beams whereas diffraction limits size spatial intensity distributions determined electromagnetic field amplitude direction field defines local polarization subjected limitation may vary much finer deep-subwavelength scales demonstrate local spin state focused vortex beam varies deep-subwavelength scale 160 light wavelength corresponds length scale 10 nm show subwavelength spin variations readily designed since presence spiral phase axial field beam carrying oam intrinsically accompanies spin associated transverse field beam applications observed photonic skyrmion structures may range high-resolution imaging precision metrology quantum technologies data storage analysis local spin structure beam intensity applied achieve deep-subwavelength optical field patterns sam electromagnetic wave defined via imεe μh h4ω electric magnetic fields frequency permittivity permeability respectively7 waveguided surface electromagnetic waves evanescent field component carry transverse sam sr spin vector s|s| oriented perpendicular direction propagation18–21 optical vortex beams helical wavefronts also carry intrinsic oam described vortex topological charge determines phase increment around vortex core22 intensity local spin vector orientation evanescent vortex beam total angular momentum +1 shown fig see methods details simulations spin–orbit coupling beam leads appearance longitudinal sam sz present evanescent waves without vortices revolution electric field vector plane perpendicular propagation direction transverse electromagnetic field described spin vector parallel propagation direction longitudinal sz transverse sr sams evanescent vortex beam vary across beam cross-section fig 1a progressive change spin vector seen ‘up state centre opposite ‘down state position r1 along radial direction structure formed local photonic spin vectors evanescent vortex beam proved direct analogue structure magnetization direction neel-type skyrmions skyrmion number see methods magnetic materials23 interesting note free-space propagating non-diffracting vortex vector beams carry longitudinal azimuthal sam components exhibit skyrmionlike spin variations time free-space focused propagating vortex beams spin vector texture resembles bloch-type skyrmion central part beam exact analogy hold see methods energy flux plays important role photonic skyrmion formation see methods evanescent optical 1nanophotonics research centre shenzhen key laboratory micro-scale optical information technology shenzhen university guangdong sheng china 2department physics london centre nanotechnology kings college london london uk e-mail lpdu@szueducn azayats@kclacuk xcyuan@szueducn 650 nature physics vol 15 july 2019 650–654 wwwnaturecomnaturephysics lettershttpsdoiorg101038s41567-019-0487-7'"
      ]
     },
     "execution_count": 97,
     "metadata": {},
     "output_type": "execute_result"
    }
   ],
   "source": [
    "nat_phys"
   ]
  },
  {
   "cell_type": "code",
   "execution_count": 98,
   "metadata": {},
   "outputs": [
    {
     "data": {
      "text/plain": [
       "554"
      ]
     },
     "execution_count": 98,
     "metadata": {},
     "output_type": "execute_result"
    }
   ],
   "source": [
    "len(nat_phys.split(\" \"))"
   ]
  },
  {
   "cell_type": "code",
   "execution_count": 99,
   "metadata": {},
   "outputs": [
    {
     "data": {
      "text/plain": [
       "'letter large non-saturating magnetoresistance wte2 doi101038nature13763 mazhar ali1 jun xiong2 steven flynn1 jing tao3 quinn gibson1 leslie schoop1 tian liang2 neel haldolaarachchige1 max hirschberger2 ong2 cava1 magnetoresistance change materials electrical resistance response applied magnetic field materials large magnetoresistance found use magnetic sensors1 magnetic memory2 hard drives3 room temperature rarity motivated many fundamental studies materials physics low temperatures4 report observation extremely large positive magnetoresistance low temperatures non-magnetic layered transition-metal dichalcogenide wte2 452 700 per cent 45 kelvins magnetic field 147 teslas 13 million per cent 053 kelvins magnetic field 60 teslas contrast materials saturation magnetoresistance value even high applied fields determination origin consequences effect fabrication thin films nanostructures devices based extremely large positive magnetoresistance wte2 represent significant new direction study magnetoresistivity large magnetoresistance mr uncommon property mostly magnetic compounds giant magnetoresistance gmr5 colossal magnetoresistance cmr6 occur thin-film metals manganesebased perovskites example contrast ordinary magnetoresistance relatively weak effect commonly found non-magnetic compounds elements8 magnetic materials typically negative magnetoresistances mr typically reported percentage defined [rh r]r rh resistivity applied magnetic field positive magnetoresistance seen metals semiconductors semimetals9 usually level per cent metals semiconducting silver chalcogenides magnetoresistances 12 000% comparable materials showing cmr10 singlecarrier-type semiconductors mr behaves mh2 carrier mobility high-mobility semiconductors therefore show relatively large effects11 high-purity elemental bismuth semimetal extremely large positive magnetoresistance graphite12 semimetals high magnetoresistances attributed balanced hole–electron ‘resonance condition described wte2 seems first known material resonance nearly perfect wte2 layered transition-metal dichalcogenide tmd crystallizing distorted version common mos2 structure type13 tmds known many interesting properties catalysis chemical reactions14 presence charge density waves cdws15 superconductivity16 solid-state lubricants17 make nanotubes18 electrodes rechargeable batteries19 exfoliated fabricate state-of-the-art nanostructures20 21 report show extremely large magnetoresistance layered tmd compounds metal layers sandwiched adjacent chalcogenide layers dichalogenide sandwich stacks along axis hexagonal structure van der waals bonding layers result anisotropic bonding layered tmds typically electronically two-dimensional wte2 however additional structural distortion tungsten chains formed within dichalcogenide layers along axis orthorhombic unit cell making compound structurally onedimensional fig 1a wte2 semimetal22 23 previously investigated thermoelectric applications solid solutions wse2 mote2 ref 24 discovered extremely large positive magnetoresistance xmr wte2 452 700% 45 applied field 147 current direction along tungsten chains axis magnetic field applied perpendicular dichalcogenide layers along axis magnetoresistance still increasing 60 highest field measurements value 13 000 000% indication resistivity saturation even high applied fields indication unique character wte2 wte2 highly anisotropic electronic structure small pockets holes electrons see ref 23 directions tungsten chains found crystal structure xmr anisotropic current flowing along chain direction maximized field applied perpendicular wte2 layers decreases 90% magnetic field applied directions effect becomes significant temperatures 150 temperature ‘turn increases magnitude applied magnetic field electron diffraction patterns taken low temperatures indicate te 28 437 28 295 28 10 figure structural considerations crystal structure wte2 showing layered nature typical tmds also chains atoms along axis distorting ideal hexagonal net distances a˚ngstro¨ms typical crystal wte2 crystallographic directions marked xmr exists current flows along field parallel see electron diffraction images looking zone showing reciprocal lattice wte2 295 10 data show superlattice formation cooling sensitivity part 100 000 indicate structural transition wte2 deep xmr regime effective magnetic field sample tem 28 1department chemistry princeton university princeton new jersey 08544 usa 2joseph henry laboratories department physics princeton university princeton new jersey 08544 usa 3department condensed matter physics materials science brookhaven national laboratory upton new york 11973 usa ©2014 macmillan publishers limited rights reserved'"
      ]
     },
     "execution_count": 99,
     "metadata": {},
     "output_type": "execute_result"
    }
   ],
   "source": [
    "nat"
   ]
  },
  {
   "cell_type": "code",
   "execution_count": 100,
   "metadata": {},
   "outputs": [
    {
     "data": {
      "text/plain": [
       "558"
      ]
     },
     "execution_count": 100,
     "metadata": {},
     "output_type": "execute_result"
    }
   ],
   "source": [
    "len(nat.split(\" \"))"
   ]
  },
  {
   "cell_type": "code",
   "execution_count": 101,
   "metadata": {},
   "outputs": [
    {
     "data": {
      "text/plain": [
       "'physical review letters 124 096602 chiral hall effect noncollinear magnets cyclic cohomology approach fabian lux frank freimuth stefan blügel yuriy mokrousov 1peter grünberg institut institute advanced simulation forschungszentrum jülich jara 52425 jülich germany 2department physics rwth aachen university 52056 aachen germany 3institute physics johannes gutenberg university mainz 55099 mainz germany received 21 october 2019 revised manuscript received 22 december 2019 accepted february 2020 published march 2020 demonstrate emergence anomalous hall effect chiral magnetic textures neither proportional net magnetization well-known emergent magnetic field responsible topological hall effect instead appears already linear order gradients magnetization texture exists one-dimensional magnetic textures domain walls spin spirals receives natural interpretation language alain connes noncommutative geometry show chiral hall effect resembles familiar topological hall effect essential properties phenomenology distinctly different findings make reinterpretation experimental data necessary offer exciting twist engineering electrical transport magnetic skyrmions doi 101103physrevlett124096602 topological magnetic solitons magnetic skyrmions represent class particlelike magnetization textures could serve energy-efficient information bits future three important milestones need reached order realize vision currently active field research stabilization room-temperature solitons deterministic control deterministic readout regard latter noncollinear magnetic textures challenge us broken translational invariance variations mesoscopic length scales interpretation experimental transport data often strongly debated recently case sriro3=srruo3 bilayers system may exhibit skyrmionic magnetization textures presence chiral domain walls strong spin-orbit coupling soc adds complexity undermines priori gauge field interpretation observed topological hall effect used proxy detection skyrmion phase since early days skyrmionics still actively pursued various theoretical approaches put forward order generalize upon gauge-field interpretation model based extensions either gauge-field language nonadiabatic regime t-matrix scattering theory operating weak-coupling regime approach acknowledges importance soc-induced gauge fields linear order nakabayashi tatara however previous work orbital magnetization noncollinear spin textures suggests perturbative description soc strength eventually insufficient regime preferred spin reference frame exists anymore strong soc materials mentioned oxides fall regime well would desirable formalism generalized ab initio description confined model level work close gap set foundation future progress area electrical transport properties isolated topological solitons rephrasing constitutive equations language noncommutative geometry procedure results systematic recipe incorporate noncollinear magnetism providing corrections conductivity tensor order order gradients local magnetization texture addition transverse components conductivity tensor receive natural interpretation nontrivial elements cyclic cohomology class noncommutative phase space geometry focus first nontrivial transverse correction expansion coin chiral hall effect che argue che provides important contribution hall effect noncollinear magnets appear addition topological hall effect central approach phase space formulation quantum mechanics application nonequilibrium keldysh formalism approach noncommutative algebra quantum operators translated noncommutative product ⃗∂xμþ exp ⃖∂pμ iℏ ð1þ ⃖∂xμ ⃗∂pμ acting phase space functions via leftand right-acting derivatives following discussion refer four-position ðxþμ ðct xþ momentum ðpþμ ðϵ=c pþ respect metric signature ð− þþþ regarded classical 0031-9007=20=124=096602 096602-1 2020 american physical society'"
      ]
     },
     "execution_count": 101,
     "metadata": {},
     "output_type": "execute_result"
    }
   ],
   "source": [
    "prl"
   ]
  },
  {
   "cell_type": "code",
   "execution_count": 102,
   "metadata": {},
   "outputs": [
    {
     "data": {
      "text/plain": [
       "448"
      ]
     },
     "execution_count": 102,
     "metadata": {},
     "output_type": "execute_result"
    }
   ],
   "source": [
    "len(prl.split(\" \"))"
   ]
  },
  {
   "cell_type": "code",
   "execution_count": 103,
   "metadata": {},
   "outputs": [
    {
     "data": {
      "text/plain": [
       "'composite weyl nodes stabilized screw symmetry without time-reversal invariance physical review 96 045102 stepan tsirkin ivo souza david vanderbilt3 1centro de física de materiales universidad del país vasco 20018 san sebastián spain 2ikerbasque foundation 48013 bilbao spain 3department physics astronomy rutgers university piscataway new jersey 08854-8019 usa received april 2017 published july 2017 classify band degeneracies three-dimensional crystals screw symmetry nm broken symmetry stands spatial inversion time reversal generic degeneracies along symmetry lines weyl nodes chiral contact points pairs bands single nodes chiral charge magnitude |χ| composite nodes |χ| possible values depend order axis pitch mn screw double weyl nodes require triple nodes require cases bands split linearly along axis composite nodes splitting quadratic orthogonal plane true triple well double nodes due presence effective two-band hamiltonian nonchiral quadratic term masks chiral cubic dispersion symmetry present broken may exist symmetry lines weyl nodes pinned -invariant momenta cases unavoidable absence symmetries classiﬁcation depends type symmetry spinless -invariant weyl nodes always double nodes spinful single triple nodes -invariant triples nodes occur sixfold axes also threefold ones in-plane band splitting cubic quadratic case generic triple nodes rules illustrated means ﬁrst-principles calculations hcp cobalt -broken p-invariant crystal 63 symmetry trigonal tellurium hexagonal nbsi2 -invariant p-broken crystals threefold sixfold screw symmetry respectively doi 101103physrevb96045102 introduction study degeneracies energy spectrum crystals long history band theory solids early works focused consequences symmetry much later topological aspects problem began appreciated interplay topology crystal symmetry particularly interesting example michel zak used argument based periodicity reciprocal space show nonsymmorphic symmetries screw axes glide planes necessarily lead degeneracies symmetry lines planes brillouin zone bz recent years study band crossings reinvigorated discovery gapless topological phases weyl dirac semimetals presence degeneracies near fermi level lead striking observable effects knowledge symmetry conditions certain types degeneracies become possible even unavoidable greatly simplify search analysis candidate materials focus weyl nodes ie isolated twofold degeneracies occur three-dimensional 3d band structures without ﬁne-tune hamiltonian simplest common case two bands split linearly directions away node contact points generic degeneracies bulk crystals broken symmetry denote spatial inversion time-reversal symmetry respectively combined stepantsirkin@ehueus symmetry present bands kramers-degenerate everywhere bz additional isolated degeneracies known dirac nodes weyl nodes chiral acting monopole sources sinks berry curvature bz quantized berry ﬂux fermi-surface sheets nonzero material classiﬁed weyl semimetal weyl nodes topologically protected discrete translational symmetry lattice gapped anihilating weyl nodes opposite chirality symmetries needed existence nevertheless presence symmetries affects location characteristics example fourfold symmetry stabilize weyl nodes along symmetry axis bz cases bands split quadratically directions perpendicular axis still linearly along axis [3 9] quadratic touchings may regarded consisting two linear weyl nodes chirality brought together rotational symmetry chiral charge ±2 reason become known “double weyl nodes” furthermore shown point-group symmetry necessary sometimes sufﬁcient guarantee existence isolated band touchings points symmetry paper classify band crossings occurring symmetry lines 3d crystals screw rotational symmetry broken symmetry ﬁrst describe types crossings possible generic points along symmetry line specialize -invariant p-broken crystals consider crossings -invariant points lines spinful spinless symmetry former applies electrons crystals latter spectrum photonic 2469-9950201796045102 045102-1 ©2017 american physical society'"
      ]
     },
     "execution_count": 103,
     "metadata": {},
     "output_type": "execute_result"
    }
   ],
   "source": [
    "prb"
   ]
  },
  {
   "cell_type": "code",
   "execution_count": 104,
   "metadata": {},
   "outputs": [
    {
     "data": {
      "text/plain": [
       "505"
      ]
     },
     "execution_count": 104,
     "metadata": {},
     "output_type": "execute_result"
    }
   ],
   "source": [
    "len(prb.split(\" \"))"
   ]
  },
  {
   "cell_type": "markdown",
   "metadata": {},
   "source": [
    "1ページ目がタイトルのみなどになっている Nature Communications や Journal of Physics は文字数が少なく、いらない情報の割合が大きい。"
   ]
  },
  {
   "cell_type": "code",
   "execution_count": 105,
   "metadata": {},
   "outputs": [],
   "source": [
    "import matplotlib.pyplot as plt\n",
    "import seaborn as sns"
   ]
  },
  {
   "cell_type": "code",
   "execution_count": 106,
   "metadata": {},
   "outputs": [],
   "source": [
    "journal = [\"Adv. Matter.\", \"J. Phys.\", \"JPSJ\", \"Nat. Communs\", \"Nat. Matter.\", \"Nat. Phys.\", \"Nature\", \"PRL\", \"PRB\"]\n",
    "word_count = [\n",
    "    len(adv_matter.split()), len(jphys.split()), len(jpsj.split()), len(nat_com.split()), len(nat_mat.split()),\n",
    "    len(nat_phys.split()), len(nat.split()), len(prl.split()), len(prb.split()),\n",
    "]"
   ]
  },
  {
   "cell_type": "code",
   "execution_count": 107,
   "metadata": {},
   "outputs": [
    {
     "data": {
      "image/png": "[encoded data removed]",
      "text/plain": [
       "<Figure size 432x288 with 1 Axes>"
      ]
     },
     "metadata": {
      "needs_background": "light"
     },
     "output_type": "display_data"
    }
   ],
   "source": [
    "sns.barplot(journal, word_count)\n",
    "plt.xticks(rotation=45)\n",
    "plt.show()"
   ]
  },
  {
   "cell_type": "markdown",
   "metadata": {},
   "source": [
    "文字数が 300 以下の場合にはもう１ページ読み込むほうが良いかも知れない"
   ]
  },
  {
   "cell_type": "code",
   "execution_count": 108,
   "metadata": {},
   "outputs": [],
   "source": [
    "def loadtxt(pdf: str) -> str:\n",
    "    output_string = StringIO()\n",
    "    with open(pdf, 'rb') as in_file:\n",
    "        parser = PDFParser(in_file)\n",
    "        doc = PDFDocument(parser)\n",
    "        rsrcmgr = PDFResourceManager()\n",
    "        device = TextConverter(rsrcmgr, output_string, laparams=LAParams())\n",
    "        interpreter = PDFPageInterpreter(rsrcmgr, device)\n",
    "        \n",
    "        text = \"\"\n",
    "        for page in PDFPage.create_pages(doc):\n",
    "            interpreter.process_page(page)\n",
    "            text = \" \".join([text, output_string.getvalue()])\n",
    "            if len(text.split()) > 300: break\n",
    "    \n",
    "    return text"
   ]
  },
  {
   "cell_type": "code",
   "execution_count": 109,
   "metadata": {},
   "outputs": [],
   "source": [
    "adv_matter = clean(loadtxt(\"./Samples/AdvMatter1.pdf\"))\n",
    "jphys = clean(loadtxt(\"./Samples/JPhys1.pdf\"))\n",
    "jpsj = clean(loadtxt(\"./Samples/JPSJ1.pdf\"))\n",
    "nat_com = clean(loadtxt(\"./Samples/NatCommun1.pdf\"))\n",
    "nat_mat = clean(loadtxt(\"./Samples/NatMatter1.pdf\"))\n",
    "nat_phys = clean(loadtxt(\"./Samples/NatPhys1.pdf\"))\n",
    "nat = clean(loadtxt(\"./Samples/Nature1.pdf\"))\n",
    "prl = clean(loadtxt(\"./Samples/PRL1.pdf\"))\n",
    "prb = clean(loadtxt(\"./Samples/PRB1.pdf\"))"
   ]
  },
  {
   "cell_type": "code",
   "execution_count": 110,
   "metadata": {},
   "outputs": [
    {
     "data": {
      "text/plain": [
       "'journal physics condensed matterfast track communicationthe giant anomalous hall effect ferromagnetfe3sn2—a frustrated kagome metalto cite article kida et al 2011 phys condens matter 23 112205 view article online updates enhancementsrelated contentnon-collinearity spin frustration theitinerant kagome ferromagnet fe3sn2l fenner dee wills-anomalous hall effect electrontransport ferromagnetic mnbi filmsp kharel sellmyer-skew scattering dominated anomaloushall effect coxmgo100x granular thinfilmsqiang zhang yan wen yuelei zhao et al-recent citationselemental analysis magnetism ofhydronium jarosites—model kagomeantiferromagnets topological spinglassesa wills bisson-anomalous hall effect due tononcollinearity pyrochlore compoundsrole orbital aharonov-bohm effecttomizawa takeshi kontani hirhoshi-this content downloaded ip address 1578219415 09102019 0406 journal physics condensed matterfast track communicationthe giant anomalous hall effect ferromagnetfe3sn2—a frustrated kagome metalto cite article kida et al 2011 phys condens matter 23 112205 view article online updates enhancementsrelated contentnon-collinearity spin frustration theitinerant kagome ferromagnet fe3sn2l fenner dee wills-anomalous hall effect electrontransport ferromagnetic mnbi filmsp kharel sellmyer-skew scattering dominated anomaloushall effect coxmgo100x granular thinfilmsqiang zhang yan wen yuelei zhao et al-recent citationselemental analysis magnetism ofhydronium jarosites—model kagomeantiferromagnets topological spinglassesa wills bisson-anomalous hall effect due tononcollinearity pyrochlore compoundsrole orbital aharonov-bohm effecttomizawa takeshi kontani hirhoshi-this content downloaded ip address 1578219415 09102019 0406 iop publishing phys condens matter 23 112205 6pp journal physics condensed matter doi1010880953-89842311112205 fast track communication giant anomalous hall effect ferromagnet fe3sn2—a frustrated kagome metal kida1 fenner2 dee2 terasaki4 hagiwara1 wills2 kyokugen osaka university 1-3 machikaneyama toyonaka osaka 560-8531 japan department chemistry university college london 20 gordon street london wc1h 0aj uk london centre nanotechnology 17-19 gordon street london wc1h 0ah uk department applied physics waseda university 3-4-1 okubo shinjuku tokyo 169-8555 japan e-mail aswills@uclacuk received 25 september 2010 ﬁnal form 19 january 2011 published march 2011 online stacksioporgjphyscm23112205 abstract kagome-bilayer material fe3sn2 recently shown example rare class magnet—a frustrated ferromagnetic metal magnetism fe3sn2 appears relatively simple high temperature localized moments parallel c-axis tc 640 upon cooling competing exchange interactions spin frustration become apparent cause moments become non-collinear rotate towards kagome plane forming ﬁrstly canted ferromagnetic structure re-entrant spin glass tf cid2 80 work show fe3sn2 possesses unusual anomalous hall effect −9 cm saturated hall resistivity fe3sn2 32 μ\\x01 cm 300 almost 20 times higher typical itinerant ferromagnets fe ni anomalous hall coefﬁcient rs 67 10 −1 300 three orders magnitude larger pure fe obeys unconventional scaling longitudinal resistivity ρxx rs ρ315 relationship cannot explained either conventional skew side-jump mechanisms indicating anomalous hall effect fe3sn2 extraordinary origin presumed related underlying frustration magnetism ﬁndings demonstrate frustrated ferromagnets whether based bulk materials artiﬁcial nanoscale structures provide new routes room temperature spin-dependent electron transport properties suited application spintronics xx ﬁgures article colour electronic version introduction hall effect sideways deﬂection electron current due off-diagonal coupling electric magnetic present address department physics nagoya university furocho chikusa nagoya 464-8602 japan ﬁelds itinerant ferromagnets fe ni presence spontaneous magnetization allows effect occur absence external magnetic ﬁeld leading giant hall resistivity termed anomalous hall effect ahe understanding phenomenon origins amongst fundamental long term problems condensed matter physics 0953-898411112205+06$3300 2011 iop publishing ltd printed uk usa'"
      ]
     },
     "execution_count": 110,
     "metadata": {},
     "output_type": "execute_result"
    }
   ],
   "source": [
    "jphys"
   ]
  },
  {
   "cell_type": "code",
   "execution_count": 111,
   "metadata": {},
   "outputs": [
    {
     "data": {
      "text/plain": [
       "'article httpsdoiorg101038s41467-019-13968-8 open topological magneto-optical effects quantization noncoplanar antiferromagnets xiaodong zhou1 guang-yu guo4 stefan blügel jan-philipp hanke wanxiang feng yuriy mokrousov yugui yao1 reﬂecting fundamental interactions polarized light magnetic matter magnetooptical effects well known since century emergence phenomena commonly attributed interplay exchange splitting spin-orbit coupling electronic structure magnets using theoretical arguments demonstrate topological magneto-optical effects arise noncoplanar antiferromagnets due ﬁnite scalar spin chirality without reference exchange splitting spin-orbit coupling propose spectral integrals certain magneto-optical quantities uncover unique topological nature discovered effect also ﬁnd kerr faraday rotation angles quantized insulating topological antiferromagnets low-frequency limit owing nontrivial global properties manifest quantum topological magneto-optical effects although predicted topological quantum topological magneto-optical effects fundamentally distinct conventional light-matter interactions measured readily available experimental techniques key lab advanced optoelectronic quantum architecture measurement ministry education beijing key lab nanophotonics ultraﬁne optoelectronic systems school physics beijing institute technology 100081 beijing china peter grünberg institut institute advanced simulation forschungszentrum jülich jara 52425 jülich germany institute physics johannes gutenberg university mainz 55099 mainz germany department physics center theoretical physics national taiwan university taipei 10617 taiwan physics division national center theoretical sciences hsinchu 30013 taiwan email ygyao@biteducn nature communications 11118 httpsdoiorg101038s41467-019-13968-8 wwwnaturecomnaturecommunications article httpsdoiorg101038s41467-019-13968-8 open topological magneto-optical effects quantization noncoplanar antiferromagnets xiaodong zhou1 guang-yu guo4 stefan blügel jan-philipp hanke wanxiang feng yuriy mokrousov yugui yao1 reﬂecting fundamental interactions polarized light magnetic matter magnetooptical effects well known since century emergence phenomena commonly attributed interplay exchange splitting spin-orbit coupling electronic structure magnets using theoretical arguments demonstrate topological magneto-optical effects arise noncoplanar antiferromagnets due ﬁnite scalar spin chirality without reference exchange splitting spin-orbit coupling propose spectral integrals certain magneto-optical quantities uncover unique topological nature discovered effect also ﬁnd kerr faraday rotation angles quantized insulating topological antiferromagnets low-frequency limit owing nontrivial global properties manifest quantum topological magneto-optical effects although predicted topological quantum topological magneto-optical effects fundamentally distinct conventional light-matter interactions measured readily available experimental techniques key lab advanced optoelectronic quantum architecture measurement ministry education beijing key lab nanophotonics ultraﬁne optoelectronic systems school physics beijing institute technology 100081 beijing china peter grünberg institut institute advanced simulation forschungszentrum jülich jara 52425 jülich germany institute physics johannes gutenberg university mainz 55099 mainz germany department physics center theoretical physics national taiwan university taipei 10617 taiwan physics division national center theoretical sciences hsinchu 30013 taiwan email ygyao@biteducn nature communications 11118 httpsdoiorg101038s41467-019-13968-8 wwwnaturecomnaturecommunications article nature communications httpsdoiorg101038s41467-019-13968-8 magneto-optical effects referring changes polarization state light upon interacting magnetic matter one basic phenomena solid-state physics 1846 faraday discovered ﬁrst magnetooptical phenomenon plane linearly polarized light rotated passing piece glass exposed external magnetic ﬁeld1 thirty years later kerr found corresponding effect reﬂected light2 magneto-optical effects represented faraday kerr effects helped establishing maxwells theory electromagnetism late 19th century provided also exquisite technology modern high-density data storage since 1950s last century3 matured appealing widely used spectroscopic tools used eg visualize magnetic domains5 detect manipulate magnetic order7 measure ferromagnetism two-dimensional 2d systems9 10 microscopic origin described magneto-optical effects long deemed interplay band exchange splitting bes spin–orbit coupling soc11–18 essential consequence zeeman effect bes induced either external magnetic ﬁeld spontaneous magnetization magnetic materials soc splits bands orbital motion spin-polarized electrons couples incident polarized light simultaneous presence bes soc results different response left-circularly right-circularly polarized light magnetic media manifested magnetooptical faraday kerr effects microscopic mechanism sole interpretation magneto-optical effects using model arguments ﬁrst-principles calculations demonstrate topological magneto-optical tmo effects without reference bes soc arise fully compensated noncoplanar antiferromagnets nc-afms spectral integral magneto-optical conductivity well ones kerr faraday rotation angles spectroscopic topology momentum space ﬁngerprints identify tmo effects essentially conventional cousins moreover quantum versions topological light–matter interactions termed quantum topological magneto-optical qtmo effects realized insulating nc-afms nontrivial kerr rotational angle quantized certain value close 90\\x0e faraday rotation angle amounts product chern number ﬁne structure constant physical origin tmo qtmo effects uncovered nonzero scalar spin chirality schematically shown fig 1a differs fundamentally conventional light–matter coupling measurement tmo qtmo effects feasible current experimental techniques result tmo effects let us start tmo effects considering example three-dimensional 3d face-centered-cubic fcc lattice shown fig 1b focus so-called 3q spin structure19 four magnetic sublattices form regular tetrahedron spin sublattice points center tetrahedron resulting fully compensated nc-afm order describe conduction electrons interacting localized spin moments si jsij hamiltonian expressed kondo lattice model iαcjα tijc iασαβciβ si ð1þ hiji iα ciα electron creation annihilation operator site spin vector pauli matrices tij denotes nearest-neighbor transfer integral on-site exchange coupling 3d fcc lattice proper strain used generate nonzero ﬁctitious magnetic ﬁeld19 effects magnetoa bf s1 c2 s4 s2 s3 cross-section parallel transport fig topological light–matter interactions chiral magnets sketch topological light–matter interactions minimal chiral magnet comprising three neighboring noncoplanar spins bf ﬁctitious magnetic ﬂux generated ﬁnite scalar spin chirality topological magneto-optical kerr faraday effects induced ﬁctitious magnetic ﬂux bf rather nonzero net magnetization 3q noncoplanar antiferromagnet 3d fcc lattice numbers 1–4 label four magnetic sublattices corners tetrahedron gray color blue gray arrows indicate directions localized spin si ﬁctitious magnetic ﬂux bf respectively 3q nc-afm 2d triangular lattice cross-section 3d fcc lattice indicated cyan color dashed cyan lines mark 2d unit cell indicate directions bf triangular plaquette unit sphere spanned spins four sublattices parallel transported common origin dashed line indicates one c2 rotation axes spin space nature communications 11118 httpsdoiorg101038s41467-019-13968-8 wwwnaturecomnaturecommunications'"
      ]
     },
     "execution_count": 111,
     "metadata": {},
     "output_type": "execute_result"
    }
   ],
   "source": [
    "nat_com"
   ]
  },
  {
   "cell_type": "code",
   "execution_count": 112,
   "metadata": {},
   "outputs": [
    {
     "data": {
      "image/png": "[encoded data removed]",
      "text/plain": [
       "<Figure size 432x288 with 1 Axes>"
      ]
     },
     "metadata": {
      "needs_background": "light"
     },
     "output_type": "display_data"
    }
   ],
   "source": [
    "journal = [\"Adv. Matter.\", \"J. Phys.\", \"JPSJ\", \"Nat. Communs\", \"Nat. Matter.\", \"Nat. Phys.\", \"Nature\", \"PRL\", \"PRB\"]\n",
    "word_count = [\n",
    "    len(adv_matter.split()), len(jphys.split()), len(jpsj.split()), len(nat_com.split()), len(nat_mat.split()),\n",
    "    len(nat_phys.split()), len(nat.split()), len(prl.split()), len(prb.split()),\n",
    "]\n",
    "\n",
    "sns.barplot(journal, word_count)\n",
    "plt.xticks(rotation=45)\n",
    "plt.show()"
   ]
  },
  {
   "cell_type": "code",
   "execution_count": 113,
   "metadata": {},
   "outputs": [],
   "source": [
    "whole = \" \".join([adv_matter, jphys, jpsj, nat_com, nat_mat, nat_phys, nat, prl, prb])"
   ]
  },
  {
   "cell_type": "code",
   "execution_count": 114,
   "metadata": {},
   "outputs": [
    {
     "data": {
      "image/png": "[encoded data removed]",
      "text/plain": [
       "<Figure size 432x288 with 1 Axes>"
      ]
     },
     "metadata": {
      "needs_background": "light"
     },
     "output_type": "display_data"
    }
   ],
   "source": [
    "word_lengths = [len(word) for word in whole.split()]\n",
    "\n",
    "sns.countplot(word_lengths)\n",
    "plt.show()"
   ]
  },
  {
   "cell_type": "code",
   "execution_count": 115,
   "metadata": {},
   "outputs": [],
   "source": [
    "long_words = [word for word in whole.split() if len(word) > 18]"
   ]
  },
  {
   "cell_type": "code",
   "execution_count": 116,
   "metadata": {},
   "outputs": [
    {
     "data": {
      "text/plain": [
       "['wenhongwang@iphyaccn',\n",
       " '101002adma201701144',\n",
       " 'dzyaloshinskii–moriya',\n",
       " 'communicationwwwadvmatde',\n",
       " 'ferromagnetfe3sn2—a',\n",
       " 'enhancementsrelated',\n",
       " 'contentnon-collinearity',\n",
       " 'kagomeantiferromagnets',\n",
       " 'ferromagnetfe3sn2—a',\n",
       " 'enhancementsrelated',\n",
       " 'contentnon-collinearity',\n",
       " 'kagomeantiferromagnets',\n",
       " 'doi1010880953-89842311112205',\n",
       " 'stacksioporgjphyscm23112205',\n",
       " '0953-898411112205+06$3300',\n",
       " 'httpsdoiorg101038s41467-019-13968-8',\n",
       " 'httpsdoiorg101038s41467-019-13968-8',\n",
       " 'wwwnaturecomnaturecommunications',\n",
       " 'httpsdoiorg101038s41467-019-13968-8',\n",
       " 'httpsdoiorg101038s41467-019-13968-8',\n",
       " 'wwwnaturecomnaturecommunications',\n",
       " 'httpsdoiorg101038s41467-019-13968-8',\n",
       " 'face-centered-cubic',\n",
       " 'httpsdoiorg101038s41467-019-13968-8',\n",
       " 'wwwnaturecomnaturecommunications',\n",
       " 'wwwnaturecomnaturematerials',\n",
       " 'articleshttpsdoiorg101038s41563-019-0531-0',\n",
       " 'wwwnaturecomnaturephysics',\n",
       " 'lettershttpsdoiorg101038s41567-019-0487-7',\n",
       " 'doi101038nature13763',\n",
       " 'superconductivity16',\n",
       " '101103physrevlett124096602',\n",
       " '0031-9007=20=124=096602',\n",
       " '101103physrevb96045102',\n",
       " 'stepantsirkin@ehueus',\n",
       " '2469-9950201796045102']"
      ]
     },
     "execution_count": 116,
     "metadata": {},
     "output_type": "execute_result"
    }
   ],
   "source": [
    "long_words"
   ]
  },
  {
   "cell_type": "markdown",
   "metadata": {},
   "source": [
    "単語の長さが長いものには重要そうなものは少ない。特に電話番号のようなものやURLのようなものは正規表現ですぐに消せそう"
   ]
  },
  {
   "cell_type": "code",
   "execution_count": 139,
   "metadata": {},
   "outputs": [],
   "source": [
    "SPACES = r\"\\n+|,|\\s+\"\n",
    "QUOTES = r\"(\\[|\\()\\d+((–|,|\\s)\\d+)?(\\]|\\))\"\n",
    "SPLITTERS = r\"\\.|:|'|’|/|;|\\*\"\n",
    "WRAPPED = r\"\\-\\s\"\n",
    "MULTIPLE_SPACES = r\"\\s+\"\n",
    "PARANCES = r\"(\\(|\\[)|(\\)|\\])\"\n",
    "PHONES = r\"(\\d|\\-|=)+\"\n",
    "URLS = r\"(www|http).+\"\n",
    "MAILS = r\".[^\\s]+@[^\\s]+\"\n",
    "\n",
    "def clean(text: str) -> str:\n",
    "    text = re.sub(SPACES, \" \", text.lower())\n",
    "    text = re.sub(QUOTES, \"\", text)\n",
    "    text = re.sub(SPLITTERS, \"\", text)\n",
    "    text = re.sub(WRAPPED, \"\", text)\n",
    "    text = re.sub(PARANCES, \"\", text)\n",
    "    text = re.sub(PHONES, \"\", text)\n",
    "    text = re.sub(URLS, \"\", text)\n",
    "    text = re.sub(MAILS, \"\", text)\n",
    "    text = re.sub(MULTIPLE_SPACES, \" \", text)\n",
    "    text_list = text.split()\n",
    "    text_list2 = [word for word in text_list if word not in stopwords.words(\"english\") and len(word) > 1]\n",
    "    \n",
    "    return \" \".join(text_list2)"
   ]
  },
  {
   "cell_type": "code",
   "execution_count": 140,
   "metadata": {},
   "outputs": [],
   "source": [
    "adv_matter = clean(loadtxt(\"./Samples/AdvMatter1.pdf\"))\n",
    "jphys = clean(loadtxt(\"./Samples/JPhys1.pdf\"))\n",
    "jpsj = clean(loadtxt(\"./Samples/JPSJ1.pdf\"))\n",
    "nat_com = clean(loadtxt(\"./Samples/NatCommun1.pdf\"))\n",
    "nat_mat = clean(loadtxt(\"./Samples/NatMatter1.pdf\"))\n",
    "nat_phys = clean(loadtxt(\"./Samples/NatPhys1.pdf\"))\n",
    "nat = clean(loadtxt(\"./Samples/Nature1.pdf\"))\n",
    "prl = clean(loadtxt(\"./Samples/PRL1.pdf\"))\n",
    "prb = clean(loadtxt(\"./Samples/PRB1.pdf\"))"
   ]
  },
  {
   "cell_type": "code",
   "execution_count": 141,
   "metadata": {},
   "outputs": [
    {
     "data": {
      "image/png": "[encoded data removed]",
      "text/plain": [
       "<Figure size 432x288 with 1 Axes>"
      ]
     },
     "metadata": {
      "needs_background": "light"
     },
     "output_type": "display_data"
    }
   ],
   "source": [
    "whole = \" \".join([adv_matter, jphys, jpsj, nat_com, nat_mat, nat_phys, nat, prl, prb])\n",
    "word_lengths = [len(word) for word in whole.split()]\n",
    "\n",
    "sns.countplot(word_lengths)\n",
    "plt.show()"
   ]
  },
  {
   "cell_type": "code",
   "execution_count": 142,
   "metadata": {},
   "outputs": [
    {
     "data": {
      "text/plain": [
       "['dzyaloshinskii–moriya',\n",
       " 'enhancementsrelated',\n",
       " 'contentnoncollinearity',\n",
       " 'kagomeantiferromagnets',\n",
       " 'enhancementsrelated',\n",
       " 'contentnoncollinearity',\n",
       " 'kagomeantiferromagnets',\n",
       " 'stacksioporgjphyscm']"
      ]
     },
     "execution_count": 142,
     "metadata": {},
     "output_type": "execute_result"
    }
   ],
   "source": [
    "long_words = [word for word in whole.split() if len(word) > 18]\n",
    "long_words"
   ]
  },
  {
   "cell_type": "code",
   "execution_count": 147,
   "metadata": {},
   "outputs": [],
   "source": [
    "short_words = [word for word in whole.split() if len(word) < 3]"
   ]
  },
  {
   "cell_type": "code",
   "execution_count": 148,
   "metadata": {},
   "outputs": [
    {
     "data": {
      "text/plain": [
       "['xu',\n",
       " 'xu',\n",
       " 'wu',\n",
       " 'mn',\n",
       " 'dr',\n",
       " 'dr',\n",
       " 'dr',\n",
       " 'dr',\n",
       " 'dr',\n",
       " 'wu',\n",
       " 'dr',\n",
       " 'dr',\n",
       " 'et',\n",
       " 'al',\n",
       " 'rt',\n",
       " 'mn',\n",
       " 'rt',\n",
       " 'dr',\n",
       " 'xu',\n",
       " 'xu',\n",
       " 'dr',\n",
       " 'co',\n",
       " 'et',\n",
       " 'al',\n",
       " 'et',\n",
       " 'ip',\n",
       " 'et',\n",
       " 'al',\n",
       " 'et',\n",
       " 'ip',\n",
       " 'pp',\n",
       " 'aj',\n",
       " 'uk',\n",
       " 'ah',\n",
       " 'uk',\n",
       " 'tc',\n",
       " 'tf',\n",
       " 'cm',\n",
       " 'μ\\x01',\n",
       " 'cm',\n",
       " 'fe',\n",
       " 'ni',\n",
       " 'rs',\n",
       " 'fe',\n",
       " 'rs',\n",
       " 'xx',\n",
       " 'fe',\n",
       " 'ni',\n",
       " '+$',\n",
       " 'uk',\n",
       " 'pp',\n",
       " 'k\\x1b',\n",
       " 'ðþ',\n",
       " 'km',\n",
       " '\\x1b\\x01',\n",
       " '\\x0ff',\n",
       " '\\x0ff',\n",
       " 'sx',\n",
       " 'ðþ',\n",
       " 'sk',\n",
       " 'kk',\n",
       " 'ye',\n",
       " 'de',\n",
       " 'mn',\n",
       " 'fe',\n",
       " 'co',\n",
       " 'sn',\n",
       " 'ge',\n",
       " 'mn',\n",
       " 'ca',\n",
       " 'nm',\n",
       " 'fl',\n",
       " 'ii',\n",
       " 'ny',\n",
       " 'tu',\n",
       " 'ye',\n",
       " 'du',\n",
       " 'nm',\n",
       " 'nm',\n",
       " 'μh',\n",
       " 'hω',\n",
       " 'sr',\n",
       " 'sz',\n",
       " 'sz',\n",
       " 'sr',\n",
       " 'uk',\n",
       " 'mr',\n",
       " 'mr',\n",
       " 'rh',\n",
       " 'rr',\n",
       " 'rh',\n",
       " 'mr',\n",
       " 'mh',\n",
       " 'te',\n",
       " 'us',\n",
       " 'ab',\n",
       " 'iℏ',\n",
       " 'ðþ',\n",
       " 'xþ',\n",
       " 'pþ',\n",
       " 'ð−',\n",
       " 'de',\n",
       " 'de',\n",
       " 'nm',\n",
       " 'mn',\n",
       " 'bz',\n",
       " 'ie',\n",
       " 'bz',\n",
       " 'bz',\n",
       " 'bz']"
      ]
     },
     "execution_count": 148,
     "metadata": {},
     "output_type": "execute_result"
    }
   ],
   "source": [
    "short_words"
   ]
  },
  {
   "cell_type": "markdown",
   "metadata": {},
   "source": [
    "2文字の単語には意味があるものが少ない印象。重要な可能性があるのは元素記号ぐらいか？"
   ]
  },
  {
   "cell_type": "code",
   "execution_count": 159,
   "metadata": {},
   "outputs": [],
   "source": [
    "NOT_ALPHA = r\"[^a-zA-Z\\s]\"\n",
    "SPACES = r\"\\n+|,|\\s+\"\n",
    "QUOTES = r\"(\\[|\\()\\d+((–|,|\\s)\\d+)?(\\]|\\))\"\n",
    "SPLITTERS = r\"\\.|:|'|’|/|;|\\*\"\n",
    "WRAPPED = r\"\\-\\s\"\n",
    "MULTIPLE_SPACES = r\"\\s+\"\n",
    "PARANCES = r\"(\\(|\\[)|(\\)|\\])\"\n",
    "PHONES = r\"(\\d|\\-|=)+\"\n",
    "URLS = r\"(www|http).+\"\n",
    "MAILS = r\".[^\\s]+@[^\\s]+\"\n",
    "\n",
    "def clean(text: str) -> str:\n",
    "    text = re.sub(NOT_ALPHA, \"\", text.lower())\n",
    "    text = re.sub(SPACES, \" \", text)\n",
    "    text = re.sub(QUOTES, \"\", text)\n",
    "    text = re.sub(SPLITTERS, \"\", text)\n",
    "    text = re.sub(WRAPPED, \"\", text)\n",
    "    text = re.sub(PARANCES, \"\", text)\n",
    "    text = re.sub(PHONES, \"\", text)\n",
    "    text = re.sub(URLS, \"\", text)\n",
    "    text = re.sub(MAILS, \"\", text)\n",
    "    text = re.sub(MULTIPLE_SPACES, \" \", text)\n",
    "    text_list = text.split()\n",
    "    text_list2 = [word for word in text_list if word not in stopwords.words(\"english\") and len(word) > 2]\n",
    "    \n",
    "    return \" \".join(text_list2)"
   ]
  },
  {
   "cell_type": "code",
   "execution_count": 160,
   "metadata": {},
   "outputs": [],
   "source": [
    "adv_matter = clean(loadtxt(\"./Samples/AdvMatter1.pdf\"))\n",
    "jphys = clean(loadtxt(\"./Samples/JPhys1.pdf\"))\n",
    "jpsj = clean(loadtxt(\"./Samples/JPSJ1.pdf\"))\n",
    "nat_com = clean(loadtxt(\"./Samples/NatCommun1.pdf\"))\n",
    "nat_mat = clean(loadtxt(\"./Samples/NatMatter1.pdf\"))\n",
    "nat_phys = clean(loadtxt(\"./Samples/NatPhys1.pdf\"))\n",
    "nat = clean(loadtxt(\"./Samples/Nature1.pdf\"))\n",
    "prl = clean(loadtxt(\"./Samples/PRL1.pdf\"))\n",
    "prb = clean(loadtxt(\"./Samples/PRB1.pdf\"))"
   ]
  },
  {
   "cell_type": "code",
   "execution_count": 165,
   "metadata": {},
   "outputs": [
    {
     "data": {
      "text/plain": [
       "'magnetic skyrmions observation various spontaneous magnetic skyrmionic bubbles room temperature frustrated kagome magnet uniaxial magnetic anisotropy zhipeng hou weijun ren bei ding guizhou yue wang bing yang qiang zhang ying zhang enke liu feng wenhong wang guangheng xixiang zhang baogen shen zhidong zhang quest materials hosting topologically protected skyrmionic spin tex tures continues fueled promise novel devices although many materials demonstrated existence spin textures major chal lenges remain addressed devices based magnetic skyrmions realized example able create manipulate skyrmionic spin textures room temperature great importance techno logical applications adapt various external stimuli acting information carriers spintronic devices first observation skyrmionic magnetic bubbles variable topological spin textures formed room temperature frustrated kagome fesn magnet uniaxial magnetic anisotropy reported magnetization dynamics investi gated using situ lorentz transmission electron microscopy revealing transformation different magnetic bubbles domains via motion bloch lines driven applied external magnetic field results demonstrate fesn facilitates unique magnetic control topo logical spin textures room temperature making promising candidate skyrmionbased spintronic devices quest materials hosting topologically protected nano metric spin textures socalled magnetic skyrmions magnetic skyrmionic bubbles continues fueled promise novel devices skyrmionic spin textures mostly observed noncentrosymmetric crystals cubic chiral magnets mnsi mnfege fecosi cuoseo also polar magnet gavs hou ding wang zhang liu prof wang prof prof shen beijing national laboratory condensed matter physics institute physics chinese academy sciences beijing china email wenhongwangiphyaccn ren yang prof zhang shenyang materials science national laboratory institute metal research chinese academy sciences wenhua road shenyang china email wjrenimraccn doi adma thermally resonance dzyaloshinskiimoriya interaction dmi active number intriguing elec tromagnetic phenomena including topological hall effect skyrmion mag netic induced ratchet motion effective magnetic monopoles demonstrated closely related topologically non trivial spin texture skyrmions novel topological properties together nanoscale dimensions stable particle like feature ultralow threshold currentdriven motion make mag netic skyrmions fundamentally prom ising applications nextgeneration highdensity lowdissipation memory devices however although recent publication tokunaga reported observation skyrmion lattices room temperature type cuzn alloys skyrmions bulk chiral magnets mostly observed moreover spin texture skyr mions stabilized dmi chiral magnets quite limited skyrmions variable spin textures may attractive technological applications adapt various external stimuli acting information carriers spintronic devices therefore one particularly important current research direction aims discovery new materials host skyrmions variable spin textures room temperature prof school materials science engineering nanjing university science technology nanjing china zhang prof zhang king abdullah university science technology kaust physical science engineering pse thuwal saudi arabia adv mater wileyvch verlag gmbh kgaa weinheim communication'"
      ]
     },
     "execution_count": 165,
     "metadata": {},
     "output_type": "execute_result"
    }
   ],
   "source": [
    "adv_matter"
   ]
  },
  {
   "cell_type": "code",
   "execution_count": 162,
   "metadata": {},
   "outputs": [
    {
     "data": {
      "text/plain": [
       "408"
      ]
     },
     "execution_count": 162,
     "metadata": {},
     "output_type": "execute_result"
    }
   ],
   "source": [
    "len(adv_matter.split())"
   ]
  },
  {
   "cell_type": "markdown",
   "metadata": {},
   "source": [
    "tf-idf を使って各文書の重要語を抜き出してみる"
   ]
  },
  {
   "cell_type": "code",
   "execution_count": 170,
   "metadata": {},
   "outputs": [],
   "source": [
    "from typing import List, Dict\n",
    "from collections import defaultdict\n",
    "import numpy as np\n",
    "\n",
    "def tf_idf(docs: List[List[str]], index: int) -> Dict[str, float]:\n",
    "    D = len(docs)\n",
    "    num_words = len(docs[index])\n",
    "    \n",
    "    tf = defaultdict(float)\n",
    "    for word in docs[index]:\n",
    "        tf[word] += 1\n",
    "            \n",
    "    for word in tf.keys():\n",
    "        tf[word] /= num_words\n",
    "        \n",
    "    idf = defaultdict(float)\n",
    "    for word in tf.keys():\n",
    "        num_docs_has_word = 0\n",
    "        for doc in docs:\n",
    "            for w in doc:\n",
    "                if w == word:\n",
    "                    num_docs_has_word += 1\n",
    "                    break\n",
    "        idf[word] = np.log(D / (1 + num_docs_has_word))\n",
    "        \n",
    "    result = dict()\n",
    "    for word in tf.keys():\n",
    "        result[word] = tf[word] * idf[word]\n",
    "        \n",
    "    return result"
   ]
  },
  {
   "cell_type": "code",
   "execution_count": 171,
   "metadata": {},
   "outputs": [],
   "source": [
    "data = [\n",
    "    adv_matter.split(), jphys.split(), jpsj.split(), nat_mat.split(),\n",
    "    nat_com.split(), nat_phys.split(), nat.split(), prl.split(), prb.split(),\n",
    "]"
   ]
  },
  {
   "cell_type": "code",
   "execution_count": 172,
   "metadata": {},
   "outputs": [],
   "source": [
    "adv_matter_tfidf = tf_idf(data, 0)"
   ]
  },
  {
   "cell_type": "code",
   "execution_count": 176,
   "metadata": {},
   "outputs": [
    {
     "name": "stdout",
     "output_type": "stream",
     "text": [
      "skyrmions: 0.015900592474829976\n",
      "skyrmionic: 0.016156063068648672\n",
      "zhang: 0.021541417424864897\n",
      "devices: 0.018848740246756788\n",
      "textures: 0.021541417424864897\n",
      "prof: 0.022118785246709915\n"
     ]
    }
   ],
   "source": [
    "th = 0.015\n",
    "\n",
    "for (key, value) in adv_matter_tfidf.items():\n",
    "    if value > th:\n",
    "        print(f\"{key}: {value}\")"
   ]
  },
  {
   "cell_type": "code",
   "execution_count": 182,
   "metadata": {},
   "outputs": [],
   "source": [
    "adv_matter_tfidf_list = [[key, val] for (key, val) in adv_matter_tfidf.items()]\n",
    "adv_matter_tfidf_list.sort(key=lambda x: x[1], reverse=True)"
   ]
  },
  {
   "cell_type": "code",
   "execution_count": 183,
   "metadata": {},
   "outputs": [
    {
     "data": {
      "text/plain": [
       "[['prof', 0.022118785246709915],\n",
       " ['zhang', 0.021541417424864897],\n",
       " ['textures', 0.021541417424864897],\n",
       " ['devices', 0.018848740246756788],\n",
       " ['skyrmionic', 0.016156063068648672],\n",
       " ['skyrmions', 0.015900592474829976],\n",
       " ['bubbles', 0.014745856831139943],\n",
       " ['wang', 0.014745856831139943],\n",
       " ['room', 0.011925444356122483],\n",
       " ['magnet', 0.011059392623354957]]"
      ]
     },
     "execution_count": 183,
     "metadata": {},
     "output_type": "execute_result"
    }
   ],
   "source": [
    "adv_matter_tfidf_list[:10]"
   ]
  },
  {
   "cell_type": "code",
   "execution_count": 184,
   "metadata": {},
   "outputs": [],
   "source": [
    "nat_tfidf = [[key, val] for (key, val) in tf_idf(data, 6).items()]\n",
    "nat_tfidf.sort(key=lambda x: x[1], reverse=True)"
   ]
  },
  {
   "cell_type": "code",
   "execution_count": 185,
   "metadata": {},
   "outputs": [
    {
     "data": {
      "text/plain": [
       "[['wte', 0.04338684798393099],\n",
       " ['magnetoresistance', 0.04049439145166892],\n",
       " ['large', 0.026032108790358593],\n",
       " ['extremely', 0.01446228266131033],\n",
       " ['positive', 0.01446228266131033],\n",
       " ['layered', 0.01446228266131033],\n",
       " ['layers', 0.012676295638478191],\n",
       " ['dichalcogenide', 0.011569826129048263],\n",
       " ['chains', 0.011569826129048263],\n",
       " ['xmr', 0.011569826129048263]]"
      ]
     },
     "execution_count": 185,
     "metadata": {},
     "output_type": "execute_result"
    }
   ],
   "source": [
    "nat_tfidf[:10]"
   ]
  },
  {
   "cell_type": "code",
   "execution_count": 186,
   "metadata": {},
   "outputs": [],
   "source": [
    "nat_phys_tfidf = [[key, val] for (key, val) in tf_idf(data, 5).items()]\n",
    "nat_phys_tfidf.sort(key=lambda x: x[1], reverse=True)"
   ]
  },
  {
   "cell_type": "code",
   "execution_count": 187,
   "metadata": {},
   "outputs": [
    {
     "data": {
      "text/plain": [
       "[['beam', 0.03856608709682754],\n",
       " ['vortex', 0.024792484562246277],\n",
       " ['electromagnetic', 0.022037764055330023],\n",
       " ['evanescent', 0.022037764055330023],\n",
       " ['vector', 0.02012110418806062],\n",
       " ['optical', 0.01928304354841377],\n",
       " ['sam', 0.01928304354841377],\n",
       " ['photonic', 0.016096883350448496],\n",
       " ['spin', 0.015594811850314015],\n",
       " ['local', 0.014852201762203825]]"
      ]
     },
     "execution_count": 187,
     "metadata": {},
     "output_type": "execute_result"
    }
   ],
   "source": [
    "nat_phys_tfidf[:10]"
   ]
  },
  {
   "cell_type": "markdown",
   "metadata": {},
   "source": [
    "結構うまく行っていそうに見える"
   ]
  },
  {
   "cell_type": "code",
   "execution_count": null,
   "metadata": {},
   "outputs": [],
   "source": []
  }
 ],
 "metadata": {
  "kernelspec": {
   "display_name": "Python 3",
   "language": "python",
   "name": "python3"
  },
  "language_info": {
   "codemirror_mode": {
    "name": "ipython",
    "version": 3
   },
   "file_extension": ".py",
   "mimetype": "text/x-python",
   "name": "python",
   "nbconvert_exporter": "python",
   "pygments_lexer": "ipython3",
   "version": "3.7.3"
  }
 },
 "nbformat": 4,
 "nbformat_minor": 4
}
