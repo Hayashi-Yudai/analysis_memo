{
 "cells": [
  {
   "cell_type": "markdown",
   "metadata": {},
   "source": [
    "## GCS からのダウンロードテスト"
   ]
  },
  {
   "cell_type": "code",
   "execution_count": 9,
   "metadata": {},
   "outputs": [
    {
     "data": {
      "text/plain": [
       "True"
      ]
     },
     "execution_count": 9,
     "metadata": {},
     "output_type": "execute_result"
    }
   ],
   "source": [
    "from google.cloud import storage\n",
    "import os\n",
    "import dotenv\n",
    "\n",
    "dotenv.load_dotenv(\".env\")"
   ]
  },
  {
   "cell_type": "code",
   "execution_count": 7,
   "metadata": {},
   "outputs": [
    {
     "name": "stderr",
     "output_type": "stream",
     "text": [
      "/home/yudai/.pyenv/versions/3.7.3/lib/python3.7/site-packages/google/auth/_default.py:69: UserWarning: Your application has authenticated using end user credentials from Google Cloud SDK. We recommend that most server applications use service accounts instead. If your application continues to use end user credentials from Cloud SDK, you might receive a \"quota exceeded\" or \"API not enabled\" error. For more information about service accounts, see https://cloud.google.com/docs/authentication/\n",
      "  warnings.warn(_CLOUD_SDK_CREDENTIALS_WARNING)\n"
     ]
    }
   ],
   "source": [
    "client = storage.Client(os.environ.get(\"PROJECT_ID\"))"
   ]
  },
  {
   "cell_type": "code",
   "execution_count": 11,
   "metadata": {},
   "outputs": [],
   "source": [
    "username = os.environ.get(\"USER_ID\")\n",
    "\n",
    "bucket = client.bucket(os.environ.get(\"BUCKET\"))\n",
    "blob = bucket.blob(f\"{username}/AHE/Chiral Hall Effect in Noncollinear Magnets from a Cyclic Cohomology Approach.pdf\")"
   ]
  },
  {
   "cell_type": "code",
   "execution_count": 12,
   "metadata": {},
   "outputs": [],
   "source": [
    "blob.download_to_filename(\"test.pdf\")"
   ]
  },
  {
   "cell_type": "markdown",
   "metadata": {},
   "source": [
    "## PDF の解析テスト"
   ]
  },
  {
   "cell_type": "markdown",
   "metadata": {},
   "source": [
    "### PyPDF2"
   ]
  },
  {
   "cell_type": "code",
   "execution_count": 13,
   "metadata": {},
   "outputs": [
    {
     "name": "stdout",
     "output_type": "stream",
     "text": [
      "Collecting PyPDF2\n",
      "  Downloading PyPDF2-1.26.0.tar.gz (77 kB)\n",
      "\u001b[K     |████████████████████████████████| 77 kB 7.8 MB/s  eta 0:00:01\n",
      "\u001b[?25hBuilding wheels for collected packages: PyPDF2\n",
      "  Building wheel for PyPDF2 (setup.py) ... \u001b[?25ldone\n",
      "\u001b[?25h  Created wheel for PyPDF2: filename=PyPDF2-1.26.0-py3-none-any.whl size=61084 sha256=816ca41acd3c623c784f3f5b3cdf5d300d97e2b048e7dad97827957d269073fb\n",
      "  Stored in directory: /home/yudai/.cache/pip/wheels/80/1a/24/648467ade3a77ed20f35cfd2badd32134e96dd25ca811e64b3\n",
      "Successfully built PyPDF2\n",
      "Installing collected packages: PyPDF2\n",
      "Successfully installed PyPDF2-1.26.0\n"
     ]
    }
   ],
   "source": [
    "!pip install PyPDF2"
   ]
  },
  {
   "cell_type": "code",
   "execution_count": 14,
   "metadata": {},
   "outputs": [],
   "source": [
    "import PyPDF2"
   ]
  },
  {
   "cell_type": "code",
   "execution_count": 18,
   "metadata": {},
   "outputs": [],
   "source": [
    "with open(\"test.pdf\", \"rb\") as f:\n",
    "    reader = PyPDF2.PdfFileReader(f)\n",
    "    page = reader.getPage(0)\n",
    "    text = page.extractText()"
   ]
  },
  {
   "cell_type": "code",
   "execution_count": 20,
   "metadata": {},
   "outputs": [
    {
     "data": {
      "text/plain": [
       "' ChiralHallEffectinNoncollinearMagnetsfromaCyclicCohomologyApproach\\nFabianR.Lux,\\n1,2,*FrankFreimuth,\\n1StefanBlügel,\\n1andYuriyMokrousov\\n1,31PeterGrünbergInstitutandInstituteforAdvancedSimulation,ForschungszentrumJülichandJARA,52425Jülich,Germany\\n2DepartmentofPhysics,RWTHAachenUniversity,52056Aachen,Germany\\n3InstituteofPhysics,JohannesGutenbergUniversityMainz,55099Mainz,Germany\\n(Received21October2019;revisedmanuscriptreceived22December2019;accepted6February2020;published4March2020)\\nWedemonstratetheemergenceofananomalousHalleffectinchiralmagnetictextureswhichisneither\\nproportionaltothenetmagnetizationnortothewell-knownemergentmagneticfieldthatisresponsiblefor\\n\\nthetopologicalHalleffect.Instead,itappearsalreadyatlinearorderinthegradientsofthemagnetization\\ntextureandexistsforone-dimensionalmagnetictexturessuchasdomainwallsandspinspirals.Itreceivesa\\nnaturalinterpretationinthelanguageofAlainConnes\\n™noncommutativegeometry.Weshowthatthischiral\\nHalleffectresemblesthefamiliartopologicalHalleffectinessentialpropertieswhileitsphenomenologyis\\ndistinctlydifferent.Ourfindingsmakethereinterpretationofexperimentaldatanecessary,andofferan\\nexcitingtwistinengineeringtheelectricaltransportthroughmagneticskyrmions.\\nDOI:10.1103/PhysRevLett.124.096602\\nTopologicalmagneticsolitonssuchasmagneticsky-\\nrmionsrepresentaclassofparticlelikemagnetization\\ntexturesthatcouldserveasenergy-efficientinformation\\nbitsofthefuture\\n[1,2].Therearethreeimportantmilestones\\nwhichneedtobereachedinordertorealizethisvision,and\\nwhicharecurrentlyanactivefieldofresearch:thestabi-\\nlizationofroom-temperaturesolitons\\n[3,4],theirdetermin-\\nisticcontrol\\n[5,6],andtheirdeterministicreadout\\n[7,8].Withregardtothelatter,noncollinearmagnetictextures\\nchallengeuswithbrokentranslationalinvarianceand\\nvariationsonmesoscopiclengthscales.Thisiswhythe\\ninterpretationofexperimentaltransportdataisoften\\nstronglydebated,ashasbeenrecentlythecasefor\\nSrIrO3=SrRuO3bilayers[9,10].Whilethissystemmay\\nexhibitskyrmionicmagnetizationtextures,thepresenceof\\nchiraldomainwallsandstrongspin-orbitcoupling(SOC)\\naddsfurthercomplexity\\n[11]andunderminesan\\napriori\\ngaugefieldinterpretationoftheobservedtopologicalHall\\neffect(THE)\\n[12Œ14].TheTHEhasbeenusedasaproxyforthedetectionofa\\nskyrmionphasesincetheearlydaysofskyrmionics\\n[15],whichisstillactivelypursued\\n[16Œ19],andvarious\\ntheoreticalapproacheshavebeenputforwardinorderto\\n\\ngeneralizeuponitsgauge-fieldinterpretation.Theseare\\nmodelbasedextensionsofeitherthegauge-fieldlanguage\\ninthenonadiabaticregime\\n[20,21],orona\\nT-matrixscatteringtheoryoperatinginaweak-couplingregime\\n[22,23].Theonlyapproachthatacknowledgestheimpor-\\ntanceofSOC-inducedgaugefieldstolinearorderisthatby\\nNakabayashiandTatara\\n[24].However,previousworkon\\ntheorbitalmagnetizationofnoncollinearspintextures\\nsuggeststhatanyperturbativedescriptionintheSOC\\nstrengthiseventuallyinsufficientinaregimewhereno\\npreferredspinreferenceframeexistsanymore\\n[25].Strong\\nSOCmaterialssuchastheabovementionedoxidescanfall\\nintothisregimeaswell.Further,itwouldbedesirableto\\nhaveaformalismwhichcanbegeneralizedtoan\\nabinitio\\ndescriptionandisnotconfinedtothemodellevel.\\nInthiswork,weclosethisgapandsetthefoundationfor\\nfutureprogressintheareaofelectricaltransportproperties\\nofisolatedtopologicalsolitons.Wedosobyrephrasingits\\n\\nconstitutiveequationsinthelanguageofnoncommutative\\ngeometry\\n[26,27].Thisprocedureresultsinasystematic\\nrecipetoincorporatenoncollinearmagnetismbyproviding\\n\\ncorrectionstotheconductivitytensororderbyorderinthe\\n\\ngradientsofthelocalmagnetizationtexture.Inaddition,the\\ntransversecomponentsoftheconductivitytensorreceive\\nanaturalinterpretationasnontrivialelementsinthecyclic\\n\\ncohomologyclassofthenoncommutativephasespace\\ngeometry\\n[28].Wefocusonthefirstnontrivialtransverse\\ncorrectioninthisexpansionwhichwecoinchiralHall\\n\\neffect(CHE).WearguethattheCHEprovidesanimportant\\n\\ncontributiontotheHalleffectinnoncollinearmagnets,\\nwhichappearinadditiontothetopologicalHalleffect.\\nCentraltoourapproachisthephasespaceformulationof\\nquantummechanics\\n[29,30]anditsapplicationtothe\\nnonequilibriumKeldyshformalism\\n[26].Inthisapproach,\\nthenoncommutativealgebraofquantumoperatorsis\\n\\ntranslatedintothenoncommutative\\nproductexpi2ðxppxÞ;ð1Þactingonphasespacefunctionsvialeft-andright-acting\\nderivatives.Here,andinthefollowingdiscussion,werefer\\n\\ntothefour-position\\nðxÞðct;xÞandmomentum\\nðpÞð=c;pÞwithrespecttothemetricsignature\\nðþþþÞ\\n.Bothxandpcannowberegardedasclassical,\\nPHYSICALREVIEWLETTERS\\n124,096602(2020)\\n0031-9007\\n=20=124(9)=096602(6)096602-1©2020AmericanPhysicalSociety\\n'"
      ]
     },
     "execution_count": 20,
     "metadata": {},
     "output_type": "execute_result"
    }
   ],
   "source": [
    "text"
   ]
  },
  {
   "cell_type": "markdown",
   "metadata": {},
   "source": [
    "単語間のスペースが消失している。ボツ"
   ]
  },
  {
   "cell_type": "markdown",
   "metadata": {},
   "source": [
    "### pdfminer.six"
   ]
  },
  {
   "cell_type": "code",
   "execution_count": 21,
   "metadata": {},
   "outputs": [
    {
     "name": "stdout",
     "output_type": "stream",
     "text": [
      "Requirement already satisfied: pdfminer.six in /home/yudai/.local/lib/python3.7/site-packages (20181108)\n",
      "Requirement already satisfied: pycryptodome in /home/yudai/.local/lib/python3.7/site-packages (from pdfminer.six) (3.8.1)\n",
      "Collecting sortedcontainers\n",
      "  Downloading sortedcontainers-2.1.0-py2.py3-none-any.whl (28 kB)\n",
      "Requirement already satisfied: six in /home/yudai/.pyenv/versions/3.7.3/lib/python3.7/site-packages (from pdfminer.six) (1.12.0)\n",
      "Installing collected packages: sortedcontainers\n",
      "Successfully installed sortedcontainers-2.1.0\n"
     ]
    }
   ],
   "source": [
    "!pip install pdfminer.six"
   ]
  },
  {
   "cell_type": "code",
   "execution_count": 22,
   "metadata": {},
   "outputs": [],
   "source": [
    "from io import StringIO\n",
    "\n",
    "from pdfminer.converter import TextConverter\n",
    "from pdfminer.layout import LAParams\n",
    "from pdfminer.pdfdocument import PDFDocument\n",
    "from pdfminer.pdfinterp import PDFResourceManager, PDFPageInterpreter\n",
    "from pdfminer.pdfpage import PDFPage\n",
    "from pdfminer.pdfparser import PDFParser"
   ]
  },
  {
   "cell_type": "code",
   "execution_count": 32,
   "metadata": {},
   "outputs": [
    {
     "name": "stdout",
     "output_type": "stream",
     "text": [
      "PHYSICAL REVIEW LETTERS 124, 096602 (2020)\n",
      "\n",
      "Chiral Hall Effect in Noncollinear Magnets from a Cyclic Cohomology Approach\n",
      "\n",
      "Fabian R. Lux ,1,2,* Frank Freimuth ,1 Stefan Blügel\n",
      "\n",
      ",1 and Yuriy Mokrousov 1,3\n",
      "\n",
      "1Peter Grünberg Institut and Institute for Advanced Simulation, Forschungszentrum Jülich and JARA, 52425 Jülich, Germany\n",
      "\n",
      "2Department of Physics, RWTH Aachen University, 52056 Aachen, Germany\n",
      "\n",
      "3Institute of Physics, Johannes Gutenberg University Mainz, 55099 Mainz, Germany\n",
      "\n",
      " \n",
      "\n",
      "(Received 21 October 2019; revised manuscript received 22 December 2019; accepted 6 February 2020; published 4 March 2020)\n",
      "\n",
      "We demonstrate the emergence of an anomalous Hall effect in chiral magnetic textures which is neither\n",
      "proportional to the net magnetization nor to the well-known emergent magnetic field that is responsible for\n",
      "the topological Hall effect. Instead, it appears already at linear order in the gradients of the magnetization\n",
      "texture and exists for one-dimensional magnetic textures such as domain walls and spin spirals. It receives a\n",
      "natural interpretation in the language of Alain Connes’ noncommutative geometry. We show that this chiral\n",
      "Hall effect resembles the familiar topological Hall effect in essential properties while its phenomenology is\n",
      "distinctly different. Our findings make the reinterpretation of experimental data necessary, and offer an\n",
      "exciting twist in engineering the electrical transport through magnetic skyrmions.\n",
      "\n",
      "DOI: 10.1103/PhysRevLett.124.096602\n",
      "\n",
      "Topological magnetic solitons such as magnetic sky-\n",
      "rmions represent a class of particlelike magnetization\n",
      "textures that could serve as energy-efficient information\n",
      "bits of the future [1,2]. There are three important milestones\n",
      "which need to be reached in order to realize this vision, and\n",
      "which are currently an active field of research: the stabi-\n",
      "lization of room-temperature solitons [3,4], their determin-\n",
      "istic control [5,6], and their deterministic readout [7,8].\n",
      "With regard to the latter, noncollinear magnetic textures\n",
      "challenge us with broken translational\n",
      "invariance and\n",
      "variations on mesoscopic length scales. This is why the\n",
      "interpretation of experimental\n",
      "transport data is often\n",
      "strongly debated, as has been recently the case for\n",
      "SrIrO3=SrRuO3 bilayers [9,10]. While this system may\n",
      "exhibit skyrmionic magnetization textures, the presence of\n",
      "chiral domain walls and strong spin-orbit coupling (SOC)\n",
      "adds further complexity [11] and undermines an a priori\n",
      "gauge field interpretation of the observed topological Hall\n",
      "effect (THE) [12–14].\n",
      "\n",
      "The THE has been used as a proxy for the detection of a\n",
      "skyrmion phase since the early days of skyrmionics [15],\n",
      "which is still actively pursued [16–19], and various\n",
      "theoretical approaches have been put forward in order to\n",
      "generalize upon its gauge-field interpretation. These are\n",
      "model based extensions of either the gauge-field language\n",
      "in the nonadiabatic regime [20,21], or on a T-matrix\n",
      "scattering theory operating in a weak-coupling regime\n",
      "[22,23]. The only approach that acknowledges the impor-\n",
      "tance of SOC-induced gauge fields to linear order is that by\n",
      "Nakabayashi and Tatara [24]. However, previous work on\n",
      "the orbital magnetization of noncollinear spin textures\n",
      "suggests that any perturbative description in the SOC\n",
      "strength is eventually insufficient in a regime where no\n",
      "preferred spin reference frame exists anymore [25]. Strong\n",
      "\n",
      "SOC materials such as the above mentioned oxides can fall\n",
      "into this regime as well. Further, it would be desirable to\n",
      "have a formalism which can be generalized to an ab initio\n",
      "description and is not confined to the model level.\n",
      "\n",
      "In this work, we close this gap and set the foundation for\n",
      "future progress in the area of electrical transport properties\n",
      "of isolated topological solitons. We do so by rephrasing its\n",
      "constitutive equations in the language of noncommutative\n",
      "geometry [26,27]. This procedure results in a systematic\n",
      "recipe to incorporate noncollinear magnetism by providing\n",
      "corrections to the conductivity tensor order by order in the\n",
      "gradients of the local magnetization texture. In addition, the\n",
      "transverse components of the conductivity tensor receive\n",
      "a natural interpretation as nontrivial elements in the cyclic\n",
      "cohomology class of the noncommutative phase space\n",
      "geometry [28]. We focus on the first nontrivial transverse\n",
      "correction in this expansion which we coin chiral Hall\n",
      "effect (CHE). We argue that the CHE provides an important\n",
      "contribution to the Hall effect in noncollinear magnets,\n",
      "which appear in addition to the topological Hall effect.\n",
      "\n",
      "Central to our approach is the phase space formulation of\n",
      "quantum mechanics [29,30] and its application to the\n",
      "nonequilibrium Keldysh formalism [26]. In this approach,\n",
      "the noncommutative algebra of quantum operators is\n",
      "translated into the noncommutative ⋆ product\n",
      "\u0015\n",
      "⃗∂xμÞ\n",
      "\n",
      "⋆ ≡ exp\n",
      "\n",
      "− ⃖∂pμ\n",
      "\n",
      "\u0014\n",
      "iℏ\n",
      "\n",
      "ð1Þ\n",
      "\n",
      "2 ð ⃖∂xμ ⃗∂pμ\n",
      "\n",
      ";\n",
      "\n",
      "acting on phase space functions via left- and right-acting\n",
      "derivatives. Here, and in the following discussion, we refer\n",
      "to the four-position ðxÞμ ≡ ðct; xÞ and momentum ðpÞμ ≡\n",
      "ðϵ=c; pÞ with respect to the metric signature ð− þ þþÞ.\n",
      "Both x and p can now be regarded as classical,\n",
      "\n",
      "0031-9007=20=124(9)=096602(6)\n",
      "\n",
      "096602-1\n",
      "\n",
      "© 2020 American Physical Society\n",
      "\n",
      "\f",
      "\n"
     ]
    }
   ],
   "source": [
    "output_string = StringIO()\n",
    "with open('test.pdf', 'rb') as in_file:\n",
    "    parser = PDFParser(in_file)\n",
    "    doc = PDFDocument(parser)\n",
    "    rsrcmgr = PDFResourceManager()\n",
    "    device = TextConverter(rsrcmgr, output_string, laparams=LAParams())\n",
    "    interpreter = PDFPageInterpreter(rsrcmgr, device)\n",
    "    for page in PDFPage.create_pages(doc):\n",
    "        text = interpreter.process_page(page)\n",
    "        break\n",
    "text = output_string.getvalue()\n",
    "print(text)"
   ]
  },
  {
   "cell_type": "markdown",
   "metadata": {},
   "source": [
    "改行等も含めて元の PDF の構造を残している。これを元に解析を進めていく。"
   ]
  },
  {
   "cell_type": "code",
   "execution_count": 33,
   "metadata": {},
   "outputs": [],
   "source": [
    "import re"
   ]
  },
  {
   "cell_type": "code",
   "execution_count": 134,
   "metadata": {},
   "outputs": [],
   "source": [
    "text2 = re.sub(r\"\\n+|,|\\s+\", \" \", text.lower())\n",
    "text3 = re.sub(r\"\\[\\d+((–|,|\\s)\\d+)?]\", \"\", text2)\n",
    "text4 = re.sub(r\"\\.|:|'|’|/|;|\\*\", \"\", text3)\n",
    "text5 = re.sub(r\"\\-\\s\", \"\", text4)\n",
    "text6 = re.sub(r\"\\s+\", \" \", text5)\n",
    "text7 = re.sub(r\"\\(|\\)\", \"\", text6)"
   ]
  },
  {
   "cell_type": "code",
   "execution_count": 136,
   "metadata": {},
   "outputs": [
    {
     "data": {
      "text/plain": [
       "'physical review letters 124 096602 2020 chiral hall effect in noncollinear magnets from a cyclic cohomology approach fabian r lux 1 2 frank freimuth 1 stefan blügel 1 and yuriy mokrousov 1 3 1peter grünberg institut and institute for advanced simulation forschungszentrum jülich and jara 52425 jülich germany 2department of physics rwth aachen university 52056 aachen germany 3institute of physics johannes gutenberg university mainz 55099 mainz germany received 21 october 2019 revised manuscript received 22 december 2019 accepted 6 february 2020 published 4 march 2020 we demonstrate the emergence of an anomalous hall effect in chiral magnetic textures which is neither proportional to the net magnetization nor to the well-known emergent magnetic field that is responsible for the topological hall effect instead it appears already at linear order in the gradients of the magnetization texture and exists for one-dimensional magnetic textures such as domain walls and spin spirals it receives a natural interpretation in the language of alain connes noncommutative geometry we show that this chiral hall effect resembles the familiar topological hall effect in essential properties while its phenomenology is distinctly different our findings make the reinterpretation of experimental data necessary and offer an exciting twist in engineering the electrical transport through magnetic skyrmions doi 101103physrevlett124096602 topological magnetic solitons such as magnetic skyrmions represent a class of particlelike magnetization textures that could serve as energy-efficient information bits of the future there are three important milestones which need to be reached in order to realize this vision and which are currently an active field of research the stabilization of room-temperature solitons their deterministic control and their deterministic readout with regard to the latter noncollinear magnetic textures challenge us with broken translational invariance and variations on mesoscopic length scales this is why the interpretation of experimental transport data is often strongly debated as has been recently the case for sriro3=srruo3 bilayers while this system may exhibit skyrmionic magnetization textures the presence of chiral domain walls and strong spin-orbit coupling soc adds further complexity and undermines an a priori gauge field interpretation of the observed topological hall effect the the the has been used as a proxy for the detection of a skyrmion phase since the early days of skyrmionics which is still actively pursued and various theoretical approaches have been put forward in order to generalize upon its gauge-field interpretation these are model based extensions of either the gauge-field language in the nonadiabatic regime or on a t-matrix scattering theory operating in a weak-coupling regime the only approach that acknowledges the importance of soc-induced gauge fields to linear order is that by nakabayashi and tatara however previous work on the orbital magnetization of noncollinear spin textures suggests that any perturbative description in the soc strength is eventually insufficient in a regime where no preferred spin reference frame exists anymore strong soc materials such as the above mentioned oxides can fall into this regime as well further it would be desirable to have a formalism which can be generalized to an ab initio description and is not confined to the model level in this work we close this gap and set the foundation for future progress in the area of electrical transport properties of isolated topological solitons we do so by rephrasing its constitutive equations in the language of noncommutative geometry this procedure results in a systematic recipe to incorporate noncollinear magnetism by providing corrections to the conductivity tensor order by order in the gradients of the local magnetization texture in addition the transverse components of the conductivity tensor receive a natural interpretation as nontrivial elements in the cyclic cohomology class of the noncommutative phase space geometry we focus on the first nontrivial transverse correction in this expansion which we coin chiral hall effect che we argue that the che provides an important contribution to the hall effect in noncollinear magnets which appear in addition to the topological hall effect central to our approach is the phase space formulation of quantum mechanics and its application to the nonequilibrium keldysh formalism in this approach the noncommutative algebra of quantum operators is translated into the noncommutative ⋆ product \\x15 ⃗∂xμþ ⋆ ≡ exp − ⃖∂pμ \\x14 iℏ ð1þ 2 ð ⃖∂xμ ⃗∂pμ acting on phase space functions via leftand right-acting derivatives here and in the following discussion we refer to the four-position ðxþμ ≡ ðct xþ and momentum ðpþμ ≡ ðϵ=c pþ with respect to the metric signature ð− þ þþþ both x and p can now be regarded as classical 0031-9007=20=1249=0966026 096602-1 © 2020 american physical society '"
      ]
     },
     "execution_count": 136,
     "metadata": {},
     "output_type": "execute_result"
    }
   ],
   "source": [
    "text7"
   ]
  },
  {
   "cell_type": "code",
   "execution_count": 137,
   "metadata": {},
   "outputs": [
    {
     "data": {
      "text/plain": [
       "5219"
      ]
     },
     "execution_count": 137,
     "metadata": {},
     "output_type": "execute_result"
    }
   ],
   "source": [
    "len(text)"
   ]
  },
  {
   "cell_type": "code",
   "execution_count": 139,
   "metadata": {},
   "outputs": [
    {
     "data": {
      "text/plain": [
       "4982"
      ]
     },
     "execution_count": 139,
     "metadata": {},
     "output_type": "execute_result"
    }
   ],
   "source": [
    "len(text7)"
   ]
  },
  {
   "cell_type": "code",
   "execution_count": 131,
   "metadata": {},
   "outputs": [
    {
     "name": "stdout",
     "output_type": "stream",
     "text": [
      "Collecting nltk\n",
      "  Downloading nltk-3.4.5.zip (1.5 MB)\n",
      "\u001b[K     |████████████████████████████████| 1.5 MB 9.6 MB/s eta 0:00:01\n",
      "\u001b[?25hRequirement already satisfied: six in /home/yudai/.pyenv/versions/3.7.3/lib/python3.7/site-packages (from nltk) (1.12.0)\n",
      "Building wheels for collected packages: nltk\n",
      "  Building wheel for nltk (setup.py) ... \u001b[?25ldone\n",
      "\u001b[?25h  Created wheel for nltk: filename=nltk-3.4.5-py3-none-any.whl size=1449902 sha256=3b01529ebbf6ea5d6c637610e58ac510b859ebc77de5a03eb3a1f2cef0ff9569\n",
      "  Stored in directory: /home/yudai/.cache/pip/wheels/48/8b/7f/473521e0c731c6566d631b281f323842bbda9bd819eb9a3ead\n",
      "Successfully built nltk\n",
      "Installing collected packages: nltk\n",
      "Successfully installed nltk-3.4.5\n"
     ]
    }
   ],
   "source": [
    "!pip install nltk"
   ]
  },
  {
   "cell_type": "code",
   "execution_count": 146,
   "metadata": {},
   "outputs": [
    {
     "name": "stderr",
     "output_type": "stream",
     "text": [
      "[nltk_data] Downloading package stopwords to /home/yudai/nltk_data...\n",
      "[nltk_data]   Unzipping corpora/stopwords.zip.\n"
     ]
    },
    {
     "data": {
      "text/plain": [
       "True"
      ]
     },
     "execution_count": 146,
     "metadata": {},
     "output_type": "execute_result"
    }
   ],
   "source": [
    "from nltk.corpus import stopwords\n",
    "import nltk\n",
    "\n",
    "nltk.download(\"stopwords\")"
   ]
  },
  {
   "cell_type": "code",
   "execution_count": 147,
   "metadata": {},
   "outputs": [],
   "source": [
    "text_list = text7.split(\" \")"
   ]
  },
  {
   "cell_type": "code",
   "execution_count": 148,
   "metadata": {},
   "outputs": [
    {
     "data": {
      "text/plain": [
       "755"
      ]
     },
     "execution_count": 148,
     "metadata": {},
     "output_type": "execute_result"
    }
   ],
   "source": [
    "len(text_list)"
   ]
  },
  {
   "cell_type": "code",
   "execution_count": 153,
   "metadata": {},
   "outputs": [],
   "source": [
    "text_list2 = [word for word in text_list if word not in stopwords.words(\"english\") and len(word) > 1]"
   ]
  },
  {
   "cell_type": "code",
   "execution_count": 154,
   "metadata": {},
   "outputs": [
    {
     "data": {
      "text/plain": [
       "449"
      ]
     },
     "execution_count": 154,
     "metadata": {},
     "output_type": "execute_result"
    }
   ],
   "source": [
    "len(text_list2)"
   ]
  },
  {
   "cell_type": "code",
   "execution_count": 155,
   "metadata": {},
   "outputs": [
    {
     "data": {
      "text/plain": [
       "'physical review letters 124 096602 2020 chiral hall effect noncollinear magnets cyclic cohomology approach fabian lux frank freimuth stefan blügel yuriy mokrousov 1peter grünberg institut institute advanced simulation forschungszentrum jülich jara 52425 jülich germany 2department physics rwth aachen university 52056 aachen germany 3institute physics johannes gutenberg university mainz 55099 mainz germany received 21 october 2019 revised manuscript received 22 december 2019 accepted february 2020 published march 2020 demonstrate emergence anomalous hall effect chiral magnetic textures neither proportional net magnetization well-known emergent magnetic field responsible topological hall effect instead appears already linear order gradients magnetization texture exists one-dimensional magnetic textures domain walls spin spirals receives natural interpretation language alain connes noncommutative geometry show chiral hall effect resembles familiar topological hall effect essential properties phenomenology distinctly different findings make reinterpretation experimental data necessary offer exciting twist engineering electrical transport magnetic skyrmions doi 101103physrevlett124096602 topological magnetic solitons magnetic skyrmions represent class particlelike magnetization textures could serve energy-efficient information bits future three important milestones need reached order realize vision currently active field research stabilization room-temperature solitons deterministic control deterministic readout regard latter noncollinear magnetic textures challenge us broken translational invariance variations mesoscopic length scales interpretation experimental transport data often strongly debated recently case sriro3=srruo3 bilayers system may exhibit skyrmionic magnetization textures presence chiral domain walls strong spin-orbit coupling soc adds complexity undermines priori gauge field interpretation observed topological hall effect used proxy detection skyrmion phase since early days skyrmionics still actively pursued various theoretical approaches put forward order generalize upon gauge-field interpretation model based extensions either gauge-field language nonadiabatic regime t-matrix scattering theory operating weak-coupling regime approach acknowledges importance soc-induced gauge fields linear order nakabayashi tatara however previous work orbital magnetization noncollinear spin textures suggests perturbative description soc strength eventually insufficient regime preferred spin reference frame exists anymore strong soc materials mentioned oxides fall regime well would desirable formalism generalized ab initio description confined model level work close gap set foundation future progress area electrical transport properties isolated topological solitons rephrasing constitutive equations language noncommutative geometry procedure results systematic recipe incorporate noncollinear magnetism providing corrections conductivity tensor order order gradients local magnetization texture addition transverse components conductivity tensor receive natural interpretation nontrivial elements cyclic cohomology class noncommutative phase space geometry focus first nontrivial transverse correction expansion coin chiral hall effect che argue che provides important contribution hall effect noncollinear magnets appear addition topological hall effect central approach phase space formulation quantum mechanics application nonequilibrium keldysh formalism approach noncommutative algebra quantum operators translated noncommutative product ⃗∂xμþ exp ⃖∂pμ iℏ ð1þ ⃖∂xμ ⃗∂pμ acting phase space functions via leftand right-acting derivatives following discussion refer four-position ðxþμ ðct xþ momentum ðpþμ ðϵ=c pþ respect metric signature ð− þþþ regarded classical 0031-9007=20=1249=0966026 096602-1 2020 american physical society'"
      ]
     },
     "execution_count": 155,
     "metadata": {},
     "output_type": "execute_result"
    }
   ],
   "source": [
    "\" \".join(text_list2)"
   ]
  },
  {
   "cell_type": "code",
   "execution_count": null,
   "metadata": {},
   "outputs": [],
   "source": []
  }
 ],
 "metadata": {
  "kernelspec": {
   "display_name": "Python 3",
   "language": "python",
   "name": "python3"
  },
  "language_info": {
   "codemirror_mode": {
    "name": "ipython",
    "version": 3
   },
   "file_extension": ".py",
   "mimetype": "text/x-python",
   "name": "python",
   "nbconvert_exporter": "python",
   "pygments_lexer": "ipython3",
   "version": "3.7.3"
  }
 },
 "nbformat": 4,
 "nbformat_minor": 4
}
